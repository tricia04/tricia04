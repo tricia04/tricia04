{
  "nbformat": 4,
  "nbformat_minor": 0,
  "metadata": {
    "colab": {
      "provenance": []
    },
    "kernelspec": {
      "name": "python3",
      "display_name": "Python 3"
    },
    "language_info": {
      "name": "python"
    }
  },
  "cells": [
    {
      "cell_type": "code",
      "execution_count": null,
      "metadata": {
        "colab": {
          "base_uri": "https://localhost:8080/"
        },
        "id": "IUW4uWarkaV6",
        "outputId": "ad7c3d6b-0800-4626-d75f-219a7651995c"
      },
      "outputs": [
        {
          "output_type": "stream",
          "name": "stdout",
          "text": [
            "Mounted at /content/drive\n"
          ]
        }
      ],
      "source": [
        "from google.colab import drive\n",
        "drive.mount('/content/drive')"
      ]
    },
    {
      "cell_type": "code",
      "source": [
        "%cd /content/drive/MyDrive/newdata"
      ],
      "metadata": {
        "colab": {
          "base_uri": "https://localhost:8080/"
        },
        "id": "HJTbi7LZkqMn",
        "outputId": "51534ae7-8f2f-4b66-cb2d-d37662f82e6d"
      },
      "execution_count": null,
      "outputs": [
        {
          "output_type": "stream",
          "name": "stdout",
          "text": [
            "/content/drive/MyDrive/newdata\n"
          ]
        }
      ]
    },
    {
      "cell_type": "code",
      "source": [
        "import sys\n",
        "from pathlib import Path\n",
        "from tqdm import tqdm\n",
        "from pandas import HDFStore\n",
        "import numpy as np\n",
        "import pandas as pd\n",
        "import os\n",
        "from sklearn.model_selection import train_test_split\n",
        "from sklearn.preprocessing import StandardScaler, MinMaxScaler\n",
        "from tensorflow.keras.models import Sequential\n",
        "from tensorflow.keras.layers import LSTM, Dense, TimeDistributed, RepeatVector\n",
        "\n",
        "\n"
      ],
      "metadata": {
        "id": "dnmwAwVWksoC"
      },
      "execution_count": null,
      "outputs": []
    },
    {
      "cell_type": "code",
      "source": [
        "directory_path = '/content/drive/MyDrive/newdata'\n",
        "file_list = os.listdir(directory_path)\n",
        "file_list"
      ],
      "metadata": {
        "colab": {
          "base_uri": "https://localhost:8080/"
        },
        "id": "elN7jUYAkvKv",
        "outputId": "33ab0489-cffd-4fe9-c073-68f47b6116be"
      },
      "execution_count": null,
      "outputs": [
        {
          "output_type": "execute_result",
          "data": {
            "text/plain": [
              "['mod01_out02_doe05_run001.akh5',\n",
              " 'mod01_out02_doe05_run002.akh5',\n",
              " 'mod01_out02_doe05_run003.akh5',\n",
              " 'mod01_out02_doe05_run004.akh5',\n",
              " 'mod01_out02_doe05_run005.akh5',\n",
              " 'mod01_out02_doe05_run006.akh5',\n",
              " 'mod01_out02_doe05_run007.akh5',\n",
              " 'mod01_out02_doe05_run008.akh5',\n",
              " 'mod01_out02_doe05_run009 (1).akh5',\n",
              " 'mod01_out02_doe05_run010.akh5',\n",
              " 'mod01_out02_doe05_run011.akh5',\n",
              " 'mod01_out02_doe05_run012.akh5',\n",
              " 'mod01_out02_doe05_run013.akh5',\n",
              " 'mod01_out02_doe05_run014.akh5',\n",
              " 'mod01_out02_doe05_run015.akh5',\n",
              " 'mod01_out02_doe05_run016.akh5',\n",
              " 'mod01_out02_doe05_run017.akh5',\n",
              " 'mod01_out02_doe05_run018.akh5',\n",
              " 'mod01_out02_doe05_run019.akh5',\n",
              " 'mod01_out02_doe05_run020.akh5',\n",
              " 'mod01_out02_doe05_run021.akh5',\n",
              " 'mod01_out02_doe05_run022.akh5',\n",
              " 'mod01_out02_doe05_run023.akh5',\n",
              " 'mod01_out02_doe05_run024.akh5',\n",
              " 'mod01_out02_doe05_run025.akh5',\n",
              " 'mod01_out02_doe05_run026.akh5',\n",
              " 'mod01_out02_doe05_run027.akh5',\n",
              " 'mod01_out02_doe05_run028.akh5',\n",
              " 'mod01_out02_doe05_run029.akh5',\n",
              " 'mod01_out02_doe05_run030.akh5',\n",
              " 'mod01_out02_doe05_run031.akh5',\n",
              " 'mod01_out02_doe05_run032.akh5',\n",
              " 'mod01_out02_doe05_run033.akh5',\n",
              " 'mod01_out02_doe05_run034.akh5',\n",
              " 'mod01_out02_doe05_run035.akh5',\n",
              " 'mod01_out02_doe05_run036.akh5',\n",
              " 'mod01_out02_doe05_run037.akh5',\n",
              " 'mod01_out02_doe05_run038.akh5',\n",
              " 'mod01_out02_doe05_run039.akh5',\n",
              " 'mod01_out02_doe05_run040.akh5',\n",
              " 'mod01_out02_doe05_run041.akh5',\n",
              " 'mod01_out02_doe05_run042.akh5',\n",
              " 'mod01_out02_doe05_run043.akh5',\n",
              " 'mod01_out02_doe05_run044.akh5',\n",
              " 'mod01_out02_doe05_run045.akh5',\n",
              " 'mod01_out02_doe05_run046.akh5',\n",
              " 'mod01_out02_doe05_run047.akh5',\n",
              " 'mod01_out02_doe05_run048.akh5',\n",
              " 'mod01_out02_doe05_run049.akh5',\n",
              " 'mod01_out02_doe05_run050.akh5',\n",
              " 'mod01_out02_doe05_run051.akh5',\n",
              " 'mod01_out02_doe05_run052.akh5',\n",
              " 'mod01_out02_doe05_run053.akh5',\n",
              " 'mod01_out02_doe05_run054.akh5',\n",
              " 'mod01_out02_doe05_run055.akh5',\n",
              " 'mod01_out02_doe05_run056.akh5',\n",
              " 'mod01_out02_doe05_run057.akh5',\n",
              " 'mod01_out02_doe05_run058.akh5',\n",
              " 'mod01_out02_doe05_run059.akh5',\n",
              " 'mod01_out02_doe05_run060.akh5']"
            ]
          },
          "metadata": {},
          "execution_count": 4
        }
      ]
    },
    {
      "cell_type": "code",
      "source": [
        "def generate_data(obj):\n",
        "    mass = obj.data['mass']\n",
        "    shell_thickness = obj.data['SHELL_THICKNESS']\n",
        "    data_y = obj.data['NODE_COOR_X']\n",
        "    y_coordinates = data_y.iloc[:1, :]\n",
        "    output_sequence = data_y.diff(axis=0).iloc[1:, :]\n",
        "    return mass, shell_thickness, y_coordinates, output_sequence\n",
        "\n"
      ],
      "metadata": {
        "id": "yVbIyOPlkx7i"
      },
      "execution_count": null,
      "outputs": []
    },
    {
      "cell_type": "code",
      "source": [
        "def preprocess_feature_engineering(mass, shell_thickness, y_coordinates, output_sequence):\n",
        "\n",
        "    scaler_mass = StandardScaler()\n",
        "    scaler_shell_thickness = StandardScaler()\n",
        "    scaler_y_coordinates = StandardScaler()\n",
        "\n",
        "    mass_scaled = scaler_mass.fit_transform(mass.values.reshape(-1, 1))\n",
        "    shell_thickness_scaled = scaler_shell_thickness.fit_transform(shell_thickness.values.reshape(-1, 1))\n",
        "    y_coordinates_scaled = scaler_y_coordinates.fit_transform(y_coordinates)\n",
        "\n",
        "\n",
        "    scaler_minmax = MinMaxScaler()\n",
        "    y_coordinates_minmax = scaler_minmax.fit_transform(y_coordinates)\n",
        "\n",
        "\n",
        "\n",
        "    return mass_scaled, shell_thickness_scaled, y_coordinates_scaled, output_sequence\n"
      ],
      "metadata": {
        "id": "DlCrUM1Vk0zy"
      },
      "execution_count": null,
      "outputs": []
    },
    {
      "cell_type": "code",
      "source": [
        "from pathlib import Path\n",
        "import shutil\n",
        "import h5py\n",
        "import numpy as np\n",
        "\n",
        "import pandas as pd\n",
        "from pandas import Series as Ds\n",
        "from pandas import DataFrame as Df\n",
        "\n",
        "import plotly.graph_objects as go\n",
        "import plotly.express as px\n",
        "\n",
        "\n",
        "\n",
        "def make_submission_folder(submission_template_folder=None, model_name=None):\n",
        "\n",
        "    src = str(submission_template_folder)\n",
        "    dst = Path(src).parent.joinpath(model_name)\n",
        "    shutil.copytree(src, dst, dirs_exist_ok=True)\n",
        "    return\n",
        "\n",
        "\n",
        "\n",
        "class AkH5file():\n",
        "    ''' AKH5 file is a hdf5 file containing node coordinates,\n",
        "    element connectivities and attributes as function of time.\n",
        "    This class provides methods to read and update coordinates of the file.\n",
        "    '''\n",
        "    _fig_height = 400\n",
        "    _fig_width  = 400\n",
        "\n",
        "\n",
        "    def __init__(self,file_path) -> None:\n",
        "        self.root_name = 'All_Nodes'\n",
        "        self.file_path = file_path\n",
        "        self.file_name = Path(file_path).name\n",
        "\n",
        "        self._open_file()\n",
        "        self._read_all_datasets()\n",
        "        self._close_file()\n",
        "\n",
        "\n",
        "    def _open_file(self,mode='r'):\n",
        "        self._h5file = h5py.File(self.file_path, mode=mode)\n",
        "        self._root   = self._h5file[self.root_name]\n",
        "\n",
        "\n",
        "    def _close_file(self):\n",
        "        self._h5file.close()\n",
        "\n",
        "\n",
        "    def _read_all_datasets(self):\n",
        "        ''' Reading all data sets contained under All_Nodes group'''\n",
        "        dataset_names = list(self._h5file[self.root_name].keys())\n",
        "        self.data={}\n",
        "        for name in dataset_names:\n",
        "            self.data[name]=Df(self._root[name])\n",
        "\n",
        "\n",
        "    @property\n",
        "    def summary(self):\n",
        "        summary = Ds(dtype=object)\n",
        "        for name, dset in self.data.items():\n",
        "            summary[name] = dset.shape\n",
        "        return summary\n",
        "\n",
        "\n",
        "\n",
        "    def __repr__(self) -> str:\n",
        "        repr = self.summary.to_string()\n",
        "        return repr\n",
        "\n",
        "\n",
        "    def write_node_coords(self, coords_X=None , coords_Y=None, coords_Z=None):\n",
        "        ''' Updates NODE_COOR_X Y and Z tables in ahh5 file.\n",
        "        Inputs coords_x y z shape should be (n_time * n_nodes)\n",
        "        '''\n",
        "        self._open_file(mode='r+')\n",
        "        # opts={'compression':'gzip','compression_opts':0}\n",
        "        opts ={}\n",
        "\n",
        "        del self._root['TIME']\n",
        "        self._root.create_dataset(name='TIME',data=np.arange(0,82.5,2.5),**opts) # Writing in h5 file\n",
        "        self.data['TIME']  = Df(np.arange(0,82.5,2.5)) # Just to keep data field in sync\n",
        "\n",
        "        del self._root['NODE_COOR_X']\n",
        "        self._root.create_dataset(name='NODE_COOR_X',data=coords_X,**opts) # Writing in h5 file\n",
        "        self.data['NODE_COOR_X']  = Df(coords_X) # Just to keep data field in sync\n",
        "\n",
        "        del self._root['NODE_COOR_Y']\n",
        "        self._root.create_dataset(name='NODE_COOR_Y',data=coords_Y ,**opts) # Writing in h5 file\n",
        "        self.data['NODE_COOR_Y']  = Df(coords_Y) # Just to keep data field in sync\n",
        "\n",
        "        del self._root['NODE_COOR_Z']\n",
        "        self._root.create_dataset(name='NODE_COOR_Z',data=coords_Z,**opts) # Writing in h5 file\n",
        "        self.data['NODE_COOR_Z']  = Df(coords_Z) # Just to keep data field in sync\n",
        "\n",
        "        self._close_file()\n",
        "\n",
        "\n",
        "    def get_signal_rel_dist_nodes(self,node_id,node_id_ref,remove_offset=False):\n",
        "        ''' Returns distance between nodes as function of time '''\n",
        "        idx_nod = (self.data['DEFNODE']==node_id).values.ravel()\n",
        "        idx_ref = (self.data['DEFNODE']==node_id_ref).values.ravel()\n",
        "\n",
        "        X_nod = self.data['NODE_COOR_X'].values[:,idx_nod].ravel()\n",
        "        Y_nod = self.data['NODE_COOR_Y'].values[:,idx_nod].ravel()\n",
        "        Z_nod = self.data['NODE_COOR_Z'].values[:,idx_nod].ravel()\n",
        "\n",
        "        X_ref = self.data['NODE_COOR_X'].values[:,idx_ref].ravel()\n",
        "        Y_ref = self.data['NODE_COOR_Y'].values[:,idx_ref].ravel()\n",
        "        Z_ref = self.data['NODE_COOR_Z'].values[:,idx_ref].ravel()\n",
        "\n",
        "        X_vec = X_nod - X_ref\n",
        "        Y_vec = Y_nod - Y_ref\n",
        "        Z_vec = Z_nod - Z_ref\n",
        "        res = (X_vec**2 + Y_vec**2 + Z_vec**2 )**.5\n",
        "        if remove_offset:\n",
        "            res = res - res[0]\n",
        "        return res\n",
        "\n",
        "\n",
        "    def plot3d(self,time=0):\n",
        "        ''' Plots 3d node positions at a given time.\n",
        "        The closest time is used for display\n",
        "        '''\n",
        "        # Display options\n",
        "        opts_markers = dict(mode='markers', marker_symbol='square', marker_size=2, opacity=0.2, marker_color='green')\n",
        "        opts_axis   = dict(showgrid=False, title='',showline=False,zeroline=False,ticks = '',\n",
        "                           showticklabels = False, autorange=True)\n",
        "\n",
        "        times_all    = self.data['TIME'].copy()\n",
        "        times_all.columns = ['time']\n",
        "        time_closest = self._filter_closest_df(times_all,'time',time)['time']\n",
        "        time_index   = time_closest.index[0]\n",
        "\n",
        "        x = self.data['NODE_COOR_X'].loc[time_index,:]\n",
        "        y = self.data['NODE_COOR_Y'].loc[time_index,:]\n",
        "        z = self.data['NODE_COOR_Z'].loc[time_index,:]\n",
        "\n",
        "        # Mapping node id to index\n",
        "        self.map_idx_uid_nodes = self.data['DEFNODE'].to_dict()[0]\n",
        "        self.map_uid_idx_nodes = {v:k for k,v in self.map_idx_uid_nodes.items()}\n",
        "\n",
        "        conn1 = self.data['SHELL2NODE'].iloc[:,[1,2,3]].applymap(lambda x: self.map_uid_idx_nodes[x])\n",
        "        conn2 = self.data['SHELL2NODE'].iloc[:,[3,4,1]].applymap(lambda x: self.map_uid_idx_nodes[x])\n",
        "        conn2.columns = conn1.columns\n",
        "        conn = pd.concat([conn1,conn2])\n",
        "\n",
        "        i= conn.iloc[:,0]\n",
        "        j= conn.iloc[:,1]\n",
        "        k= conn.iloc[:,2]\n",
        "\n",
        "        geom = go.Mesh3d( x=x, y=y, z=z,  i=i, j=j, k=k,opacity=0.3)\n",
        "        fig  = go.Figure(data=[geom])\n",
        "\n",
        "        fig.update_scenes(aspectmode='data', xaxis=opts_axis, yaxis=opts_axis, zaxis=opts_axis)\n",
        "        fig.update_layout({'scene':{\"camera\": {\"projection\":{\"type\": \"orthographic\"}}}})\n",
        "                                                # {\"type\": \"orthographic\"}}}})\n",
        "        fig.update_layout(height=self._fig_height, width=self._fig_width, margin=dict(l=0, r=0, t=35, b=0),\n",
        "                          title=f'{self.file_name} : {time} ms')\n",
        "        fig.update_layout(scene_camera=dict(eye=dict(x=2.5, y=0, z=0)))\n",
        "\n",
        "        return fig\n",
        "\n",
        "\n",
        "    def plot3danim(self,times=(0,200),skip=1):\n",
        "        ''' Plots 3d animated mmesh.\n",
        "        '''\n",
        "        # Time frames to display\n",
        "        time_values = self.data['TIME'].copy()\n",
        "        time_values.columns=['time']\n",
        "        time_values = time_values.query('@times[0] <= time <= @times[1]')['time'].values[::skip]\n",
        "\n",
        "        # Spatial ranges\n",
        "        x_range = [self.data['NODE_COOR_X'].min().min(),self.data['NODE_COOR_X'].max().max()]\n",
        "        y_range = [self.data['NODE_COOR_Y'].min().min(),self.data['NODE_COOR_Y'].max().max()]\n",
        "        z_range = [self.data['NODE_COOR_Z'].min().min(),self.data['NODE_COOR_Z'].max().max()]\n",
        "\n",
        "        # Creating figure and frames\n",
        "        fig  = go.Figure( data   = [self.plot3d(time=time_values[0]).data[0]],\n",
        "                          frames = [go.Frame(data=[self.plot3d(time=t).data[0]],\n",
        "                                    name=f'time{t:.2f}') for t in time_values])\n",
        "\n",
        "        # Customise figure aspect\n",
        "        opts_axis   = dict(showgrid=False, title='',showline=False,zeroline=False,ticks = '',\n",
        "                           showticklabels = False, autorange=False)\n",
        "        opts_axis_x = dict(range=x_range) | opts_axis\n",
        "        opts_axis_y = dict(range=y_range) | opts_axis\n",
        "        opts_axis_z = dict(range=z_range) | opts_axis\n",
        "\n",
        "        fig.update_scenes(aspectmode='data', xaxis=opts_axis_x, yaxis=opts_axis_y, zaxis=opts_axis_z)\n",
        "        fig.update_layout(height=self._fig_height, width=self._fig_width, margin=dict(l=0, r=0, t=35, b=0))\n",
        "        fig.update_layout({'scene':{\"camera\": {\"projection\": {\"type\": \"orthographic\"}}}})\n",
        "        fig.update_layout(scene_camera=dict(eye=dict(x=2.5, y=0, z=0)))\n",
        "\n",
        "        # Create animation control\n",
        "        fig.update_layout(updatemenus=[dict(type=\"buttons\",\n",
        "            buttons=[dict(label=\"Play\",method=\"animate\",\n",
        "                    args=[None, {\"frame\": {\"duration\": 1, \"redraw\": True},\n",
        "                    \"fromcurrent\": True, \"transition\": {\"duration\": 0}}])])])\n",
        "\n",
        "        return fig\n",
        "\n",
        "\n",
        "\n",
        "\n",
        "    # Helper functions --------------------------\n",
        "\n",
        "    @staticmethod\n",
        "    def _filter_closest_df(df,filtering_column,target_value):\n",
        "        ''' Helper function to select dataframe rows where the filtering_column value is the closest to the target value'''\n",
        "        closest_value = df.iloc[(df[filtering_column]-target_value).abs().argsort()[:1]][filtering_column].values[0]\n",
        "        df_selection  = df[df[filtering_column]==closest_value]\n",
        "        return df_selection\n"
      ],
      "metadata": {
        "id": "YSZY6y1Ek4sH"
      },
      "execution_count": null,
      "outputs": []
    },
    {
      "cell_type": "code",
      "source": [
        "for afile in file_list:\n",
        "    print(afile)"
      ],
      "metadata": {
        "colab": {
          "base_uri": "https://localhost:8080/"
        },
        "id": "ug2CAkxhk7dB",
        "outputId": "5dfe08ca-5fd3-432c-802e-88d378ca6b6f"
      },
      "execution_count": null,
      "outputs": [
        {
          "output_type": "stream",
          "name": "stdout",
          "text": [
            "mod01_out02_doe05_run001.akh5\n",
            "mod01_out02_doe05_run002.akh5\n",
            "mod01_out02_doe05_run003.akh5\n",
            "mod01_out02_doe05_run004.akh5\n",
            "mod01_out02_doe05_run005.akh5\n",
            "mod01_out02_doe05_run006.akh5\n",
            "mod01_out02_doe05_run007.akh5\n",
            "mod01_out02_doe05_run008.akh5\n",
            "mod01_out02_doe05_run009 (1).akh5\n",
            "mod01_out02_doe05_run010.akh5\n",
            "mod01_out02_doe05_run011.akh5\n",
            "mod01_out02_doe05_run012.akh5\n",
            "mod01_out02_doe05_run013.akh5\n",
            "mod01_out02_doe05_run014.akh5\n",
            "mod01_out02_doe05_run015.akh5\n",
            "mod01_out02_doe05_run016.akh5\n",
            "mod01_out02_doe05_run017.akh5\n",
            "mod01_out02_doe05_run018.akh5\n",
            "mod01_out02_doe05_run019.akh5\n",
            "mod01_out02_doe05_run020.akh5\n",
            "mod01_out02_doe05_run021.akh5\n",
            "mod01_out02_doe05_run022.akh5\n",
            "mod01_out02_doe05_run023.akh5\n",
            "mod01_out02_doe05_run024.akh5\n",
            "mod01_out02_doe05_run025.akh5\n",
            "mod01_out02_doe05_run026.akh5\n",
            "mod01_out02_doe05_run027.akh5\n",
            "mod01_out02_doe05_run028.akh5\n",
            "mod01_out02_doe05_run029.akh5\n",
            "mod01_out02_doe05_run030.akh5\n",
            "mod01_out02_doe05_run031.akh5\n",
            "mod01_out02_doe05_run032.akh5\n",
            "mod01_out02_doe05_run033.akh5\n",
            "mod01_out02_doe05_run034.akh5\n",
            "mod01_out02_doe05_run035.akh5\n",
            "mod01_out02_doe05_run036.akh5\n",
            "mod01_out02_doe05_run037.akh5\n",
            "mod01_out02_doe05_run038.akh5\n",
            "mod01_out02_doe05_run039.akh5\n",
            "mod01_out02_doe05_run040.akh5\n",
            "mod01_out02_doe05_run041.akh5\n",
            "mod01_out02_doe05_run042.akh5\n",
            "mod01_out02_doe05_run043.akh5\n",
            "mod01_out02_doe05_run044.akh5\n",
            "mod01_out02_doe05_run045.akh5\n",
            "mod01_out02_doe05_run046.akh5\n",
            "mod01_out02_doe05_run047.akh5\n",
            "mod01_out02_doe05_run048.akh5\n",
            "mod01_out02_doe05_run049.akh5\n",
            "mod01_out02_doe05_run050.akh5\n",
            "mod01_out02_doe05_run051.akh5\n",
            "mod01_out02_doe05_run052.akh5\n",
            "mod01_out02_doe05_run053.akh5\n",
            "mod01_out02_doe05_run054.akh5\n",
            "mod01_out02_doe05_run055.akh5\n",
            "mod01_out02_doe05_run056.akh5\n",
            "mod01_out02_doe05_run057.akh5\n",
            "mod01_out02_doe05_run058.akh5\n",
            "mod01_out02_doe05_run059.akh5\n",
            "mod01_out02_doe05_run060.akh5\n"
          ]
        }
      ]
    },
    {
      "cell_type": "code",
      "source": [
        "import numpy as np\n",
        "\n",
        "def pad_array(arr, target_length):\n",
        "    if len(arr) < target_length:\n",
        "        return np.pad(arr, (0, target_length - len(arr)), constant_values=0)\n",
        "    elif len(arr) > target_length:\n",
        "        return arr[:target_length]\n",
        "    else:\n",
        "        return arr\n",
        "\n",
        "processed_dataframes = []\n",
        "\n",
        "for afile in tqdm(file_list, desc=\"Processing Datasets\"):\n",
        "    obj = AkH5file(afile)\n",
        "    mass, shell_thickness, y_coordinates, output_sequence = generate_data(obj)\n",
        "\n",
        "\n",
        "    mass_scaled, shell_thickness_scaled, y_coordinates_scaled, output_sequence = \\\n",
        "        preprocess_feature_engineering(mass, shell_thickness, y_coordinates, output_sequence)\n",
        "\n",
        "\n",
        "    max_length = max(len(arr) for arr in [mass_scaled, shell_thickness_scaled, y_coordinates_scaled, output_sequence.values])\n",
        "\n",
        "\n",
        "    mass_scaled = pad_array(mass_scaled.flatten(), max_length)\n",
        "    shell_thickness_scaled = pad_array(shell_thickness_scaled.flatten(), max_length)\n",
        "    y_coordinates_scaled = pad_array(y_coordinates_scaled.flatten(), max_length)\n",
        "    output_sequence = pad_array(output_sequence.values.flatten(), max_length)\n",
        "\n",
        "\n",
        "    df = pd.DataFrame({\n",
        "        'mass_scaled': mass_scaled,\n",
        "        'shell_thickness_scaled': shell_thickness_scaled,\n",
        "        'y_coordinates_scaled': y_coordinates_scaled,\n",
        "        'output_sequence': output_sequence,\n",
        "\n",
        "    })\n",
        "\n",
        "    processed_dataframes.append(df)\n",
        "\n",
        "\n",
        "    print(len(mass_scaled), len(shell_thickness_scaled), len(y_coordinates_scaled), len(output_sequence))\n"
      ],
      "metadata": {
        "colab": {
          "base_uri": "https://localhost:8080/"
        },
        "id": "_m32pQJ7k8GO",
        "outputId": "588215d7-7422-4156-f614-559c34553a2f"
      },
      "execution_count": null,
      "outputs": [
        {
          "output_type": "stream",
          "name": "stderr",
          "text": [
            "Processing Datasets:   2%|▏         | 1/60 [00:01<01:22,  1.40s/it]"
          ]
        },
        {
          "output_type": "stream",
          "name": "stdout",
          "text": [
            "15718 15718 15718 15718\n"
          ]
        },
        {
          "output_type": "stream",
          "name": "stderr",
          "text": [
            "\rProcessing Datasets:   3%|▎         | 2/60 [00:05<02:49,  2.92s/it]"
          ]
        },
        {
          "output_type": "stream",
          "name": "stdout",
          "text": [
            "15718 15718 15718 15718\n"
          ]
        },
        {
          "output_type": "stream",
          "name": "stderr",
          "text": [
            "\rProcessing Datasets:   5%|▌         | 3/60 [00:06<02:06,  2.23s/it]"
          ]
        },
        {
          "output_type": "stream",
          "name": "stdout",
          "text": [
            "15718 15718 15718 15718\n"
          ]
        },
        {
          "output_type": "stream",
          "name": "stderr",
          "text": [
            "\rProcessing Datasets:   7%|▋         | 4/60 [00:08<01:56,  2.08s/it]"
          ]
        },
        {
          "output_type": "stream",
          "name": "stdout",
          "text": [
            "15718 15718 15718 15718\n"
          ]
        },
        {
          "output_type": "stream",
          "name": "stderr",
          "text": [
            "\rProcessing Datasets:   8%|▊         | 5/60 [00:10<01:56,  2.11s/it]"
          ]
        },
        {
          "output_type": "stream",
          "name": "stdout",
          "text": [
            "15718 15718 15718 15718\n"
          ]
        },
        {
          "output_type": "stream",
          "name": "stderr",
          "text": [
            "\rProcessing Datasets:  10%|█         | 6/60 [00:12<01:47,  1.99s/it]"
          ]
        },
        {
          "output_type": "stream",
          "name": "stdout",
          "text": [
            "15718 15718 15718 15718\n"
          ]
        },
        {
          "output_type": "stream",
          "name": "stderr",
          "text": [
            "\rProcessing Datasets:  12%|█▏        | 7/60 [00:14<01:37,  1.84s/it]"
          ]
        },
        {
          "output_type": "stream",
          "name": "stdout",
          "text": [
            "15718 15718 15718 15718\n"
          ]
        },
        {
          "output_type": "stream",
          "name": "stderr",
          "text": [
            "\rProcessing Datasets:  13%|█▎        | 8/60 [00:15<01:27,  1.68s/it]"
          ]
        },
        {
          "output_type": "stream",
          "name": "stdout",
          "text": [
            "15718 15718 15718 15718\n"
          ]
        },
        {
          "output_type": "stream",
          "name": "stderr",
          "text": [
            "\rProcessing Datasets:  15%|█▌        | 9/60 [00:17<01:27,  1.71s/it]"
          ]
        },
        {
          "output_type": "stream",
          "name": "stdout",
          "text": [
            "15718 15718 15718 15718\n"
          ]
        },
        {
          "output_type": "stream",
          "name": "stderr",
          "text": [
            "\rProcessing Datasets:  17%|█▋        | 10/60 [00:18<01:22,  1.66s/it]"
          ]
        },
        {
          "output_type": "stream",
          "name": "stdout",
          "text": [
            "15718 15718 15718 15718\n"
          ]
        },
        {
          "output_type": "stream",
          "name": "stderr",
          "text": [
            "\rProcessing Datasets:  18%|█▊        | 11/60 [00:20<01:18,  1.59s/it]"
          ]
        },
        {
          "output_type": "stream",
          "name": "stdout",
          "text": [
            "15718 15718 15718 15718\n"
          ]
        },
        {
          "output_type": "stream",
          "name": "stderr",
          "text": [
            "\rProcessing Datasets:  20%|██        | 12/60 [00:22<01:21,  1.70s/it]"
          ]
        },
        {
          "output_type": "stream",
          "name": "stdout",
          "text": [
            "15718 15718 15718 15718\n"
          ]
        },
        {
          "output_type": "stream",
          "name": "stderr",
          "text": [
            "\rProcessing Datasets:  22%|██▏       | 13/60 [00:24<01:30,  1.93s/it]"
          ]
        },
        {
          "output_type": "stream",
          "name": "stdout",
          "text": [
            "15718 15718 15718 15718\n"
          ]
        },
        {
          "output_type": "stream",
          "name": "stderr",
          "text": [
            "\rProcessing Datasets:  23%|██▎       | 14/60 [00:33<03:05,  4.02s/it]"
          ]
        },
        {
          "output_type": "stream",
          "name": "stdout",
          "text": [
            "15718 15718 15718 15718\n"
          ]
        },
        {
          "output_type": "stream",
          "name": "stderr",
          "text": [
            "\rProcessing Datasets:  25%|██▌       | 15/60 [00:35<02:35,  3.46s/it]"
          ]
        },
        {
          "output_type": "stream",
          "name": "stdout",
          "text": [
            "15718 15718 15718 15718\n"
          ]
        },
        {
          "output_type": "stream",
          "name": "stderr",
          "text": [
            "\rProcessing Datasets:  27%|██▋       | 16/60 [00:37<02:14,  3.06s/it]"
          ]
        },
        {
          "output_type": "stream",
          "name": "stdout",
          "text": [
            "15718 15718 15718 15718\n"
          ]
        },
        {
          "output_type": "stream",
          "name": "stderr",
          "text": [
            "\rProcessing Datasets:  28%|██▊       | 17/60 [00:39<01:55,  2.69s/it]"
          ]
        },
        {
          "output_type": "stream",
          "name": "stdout",
          "text": [
            "15718 15718 15718 15718\n"
          ]
        },
        {
          "output_type": "stream",
          "name": "stderr",
          "text": [
            "\rProcessing Datasets:  30%|███       | 18/60 [00:41<01:40,  2.39s/it]"
          ]
        },
        {
          "output_type": "stream",
          "name": "stdout",
          "text": [
            "15718 15718 15718 15718\n"
          ]
        },
        {
          "output_type": "stream",
          "name": "stderr",
          "text": [
            "\rProcessing Datasets:  32%|███▏      | 19/60 [00:43<01:30,  2.20s/it]"
          ]
        },
        {
          "output_type": "stream",
          "name": "stdout",
          "text": [
            "15718 15718 15718 15718\n"
          ]
        },
        {
          "output_type": "stream",
          "name": "stderr",
          "text": [
            "\rProcessing Datasets:  33%|███▎      | 20/60 [00:50<02:35,  3.89s/it]"
          ]
        },
        {
          "output_type": "stream",
          "name": "stdout",
          "text": [
            "15718 15718 15718 15718\n"
          ]
        },
        {
          "output_type": "stream",
          "name": "stderr",
          "text": [
            "\rProcessing Datasets:  35%|███▌      | 21/60 [00:52<02:06,  3.25s/it]"
          ]
        },
        {
          "output_type": "stream",
          "name": "stdout",
          "text": [
            "15718 15718 15718 15718\n"
          ]
        },
        {
          "output_type": "stream",
          "name": "stderr",
          "text": [
            "\rProcessing Datasets:  37%|███▋      | 22/60 [00:54<01:45,  2.76s/it]"
          ]
        },
        {
          "output_type": "stream",
          "name": "stdout",
          "text": [
            "15718 15718 15718 15718\n"
          ]
        },
        {
          "output_type": "stream",
          "name": "stderr",
          "text": [
            "\rProcessing Datasets:  38%|███▊      | 23/60 [00:55<01:29,  2.41s/it]"
          ]
        },
        {
          "output_type": "stream",
          "name": "stdout",
          "text": [
            "15718 15718 15718 15718\n"
          ]
        },
        {
          "output_type": "stream",
          "name": "stderr",
          "text": [
            "\rProcessing Datasets:  40%|████      | 24/60 [00:57<01:16,  2.12s/it]"
          ]
        },
        {
          "output_type": "stream",
          "name": "stdout",
          "text": [
            "15718 15718 15718 15718\n"
          ]
        },
        {
          "output_type": "stream",
          "name": "stderr",
          "text": [
            "\rProcessing Datasets:  42%|████▏     | 25/60 [00:59<01:10,  2.00s/it]"
          ]
        },
        {
          "output_type": "stream",
          "name": "stdout",
          "text": [
            "15718 15718 15718 15718\n"
          ]
        },
        {
          "output_type": "stream",
          "name": "stderr",
          "text": [
            "\rProcessing Datasets:  43%|████▎     | 26/60 [01:00<01:02,  1.85s/it]"
          ]
        },
        {
          "output_type": "stream",
          "name": "stdout",
          "text": [
            "15718 15718 15718 15718\n"
          ]
        },
        {
          "output_type": "stream",
          "name": "stderr",
          "text": [
            "\rProcessing Datasets:  45%|████▌     | 27/60 [01:02<01:01,  1.87s/it]"
          ]
        },
        {
          "output_type": "stream",
          "name": "stdout",
          "text": [
            "15718 15718 15718 15718\n"
          ]
        },
        {
          "output_type": "stream",
          "name": "stderr",
          "text": [
            "\rProcessing Datasets:  47%|████▋     | 28/60 [01:04<01:03,  2.00s/it]"
          ]
        },
        {
          "output_type": "stream",
          "name": "stdout",
          "text": [
            "15718 15718 15718 15718\n"
          ]
        },
        {
          "output_type": "stream",
          "name": "stderr",
          "text": [
            "\rProcessing Datasets:  48%|████▊     | 29/60 [01:05<00:54,  1.75s/it]"
          ]
        },
        {
          "output_type": "stream",
          "name": "stdout",
          "text": [
            "15718 15718 15718 15718\n"
          ]
        },
        {
          "output_type": "stream",
          "name": "stderr",
          "text": [
            "\rProcessing Datasets:  50%|█████     | 30/60 [01:08<00:58,  1.96s/it]"
          ]
        },
        {
          "output_type": "stream",
          "name": "stdout",
          "text": [
            "15718 15718 15718 15718\n"
          ]
        },
        {
          "output_type": "stream",
          "name": "stderr",
          "text": [
            "\rProcessing Datasets:  52%|█████▏    | 31/60 [01:09<00:52,  1.81s/it]"
          ]
        },
        {
          "output_type": "stream",
          "name": "stdout",
          "text": [
            "15718 15718 15718 15718\n"
          ]
        },
        {
          "output_type": "stream",
          "name": "stderr",
          "text": [
            "\rProcessing Datasets:  53%|█████▎    | 32/60 [01:10<00:45,  1.62s/it]"
          ]
        },
        {
          "output_type": "stream",
          "name": "stdout",
          "text": [
            "15718 15718 15718 15718\n"
          ]
        },
        {
          "output_type": "stream",
          "name": "stderr",
          "text": [
            "\rProcessing Datasets:  55%|█████▌    | 33/60 [01:12<00:41,  1.54s/it]"
          ]
        },
        {
          "output_type": "stream",
          "name": "stdout",
          "text": [
            "15718 15718 15718 15718\n"
          ]
        },
        {
          "output_type": "stream",
          "name": "stderr",
          "text": [
            "\rProcessing Datasets:  57%|█████▋    | 34/60 [01:13<00:37,  1.43s/it]"
          ]
        },
        {
          "output_type": "stream",
          "name": "stdout",
          "text": [
            "15718 15718 15718 15718\n"
          ]
        },
        {
          "output_type": "stream",
          "name": "stderr",
          "text": [
            "\rProcessing Datasets:  58%|█████▊    | 35/60 [01:14<00:33,  1.33s/it]"
          ]
        },
        {
          "output_type": "stream",
          "name": "stdout",
          "text": [
            "15718 15718 15718 15718\n"
          ]
        },
        {
          "output_type": "stream",
          "name": "stderr",
          "text": [
            "\rProcessing Datasets:  60%|██████    | 36/60 [01:16<00:34,  1.43s/it]"
          ]
        },
        {
          "output_type": "stream",
          "name": "stdout",
          "text": [
            "15718 15718 15718 15718\n"
          ]
        },
        {
          "output_type": "stream",
          "name": "stderr",
          "text": [
            "\rProcessing Datasets:  62%|██████▏   | 37/60 [01:18<00:35,  1.56s/it]"
          ]
        },
        {
          "output_type": "stream",
          "name": "stdout",
          "text": [
            "15718 15718 15718 15718\n"
          ]
        },
        {
          "output_type": "stream",
          "name": "stderr",
          "text": [
            "\rProcessing Datasets:  63%|██████▎   | 38/60 [01:19<00:32,  1.50s/it]"
          ]
        },
        {
          "output_type": "stream",
          "name": "stdout",
          "text": [
            "15718 15718 15718 15718\n"
          ]
        },
        {
          "output_type": "stream",
          "name": "stderr",
          "text": [
            "\rProcessing Datasets:  65%|██████▌   | 39/60 [01:20<00:28,  1.38s/it]"
          ]
        },
        {
          "output_type": "stream",
          "name": "stdout",
          "text": [
            "15718 15718 15718 15718\n"
          ]
        },
        {
          "output_type": "stream",
          "name": "stderr",
          "text": [
            "\rProcessing Datasets:  67%|██████▋   | 40/60 [01:21<00:26,  1.31s/it]"
          ]
        },
        {
          "output_type": "stream",
          "name": "stdout",
          "text": [
            "15718 15718 15718 15718\n"
          ]
        },
        {
          "output_type": "stream",
          "name": "stderr",
          "text": [
            "\rProcessing Datasets:  68%|██████▊   | 41/60 [01:22<00:24,  1.27s/it]"
          ]
        },
        {
          "output_type": "stream",
          "name": "stdout",
          "text": [
            "15718 15718 15718 15718\n"
          ]
        },
        {
          "output_type": "stream",
          "name": "stderr",
          "text": [
            "\rProcessing Datasets:  70%|███████   | 42/60 [01:24<00:22,  1.24s/it]"
          ]
        },
        {
          "output_type": "stream",
          "name": "stdout",
          "text": [
            "15718 15718 15718 15718\n"
          ]
        },
        {
          "output_type": "stream",
          "name": "stderr",
          "text": [
            "\rProcessing Datasets:  72%|███████▏  | 43/60 [01:25<00:21,  1.25s/it]"
          ]
        },
        {
          "output_type": "stream",
          "name": "stdout",
          "text": [
            "15718 15718 15718 15718\n"
          ]
        },
        {
          "output_type": "stream",
          "name": "stderr",
          "text": [
            "\rProcessing Datasets:  73%|███████▎  | 44/60 [01:26<00:20,  1.29s/it]"
          ]
        },
        {
          "output_type": "stream",
          "name": "stdout",
          "text": [
            "15718 15718 15718 15718\n"
          ]
        },
        {
          "output_type": "stream",
          "name": "stderr",
          "text": [
            "\rProcessing Datasets:  75%|███████▌  | 45/60 [01:27<00:19,  1.27s/it]"
          ]
        },
        {
          "output_type": "stream",
          "name": "stdout",
          "text": [
            "15718 15718 15718 15718\n"
          ]
        },
        {
          "output_type": "stream",
          "name": "stderr",
          "text": [
            "\rProcessing Datasets:  77%|███████▋  | 46/60 [01:29<00:19,  1.41s/it]"
          ]
        },
        {
          "output_type": "stream",
          "name": "stdout",
          "text": [
            "15718 15718 15718 15718\n"
          ]
        },
        {
          "output_type": "stream",
          "name": "stderr",
          "text": [
            "\rProcessing Datasets:  78%|███████▊  | 47/60 [01:31<00:21,  1.66s/it]"
          ]
        },
        {
          "output_type": "stream",
          "name": "stdout",
          "text": [
            "15718 15718 15718 15718\n"
          ]
        },
        {
          "output_type": "stream",
          "name": "stderr",
          "text": [
            "\rProcessing Datasets:  80%|████████  | 48/60 [01:33<00:18,  1.53s/it]"
          ]
        },
        {
          "output_type": "stream",
          "name": "stdout",
          "text": [
            "15718 15718 15718 15718\n"
          ]
        },
        {
          "output_type": "stream",
          "name": "stderr",
          "text": [
            "\rProcessing Datasets:  82%|████████▏ | 49/60 [01:34<00:15,  1.44s/it]"
          ]
        },
        {
          "output_type": "stream",
          "name": "stdout",
          "text": [
            "15718 15718 15718 15718\n"
          ]
        },
        {
          "output_type": "stream",
          "name": "stderr",
          "text": [
            "\rProcessing Datasets:  83%|████████▎ | 50/60 [01:35<00:14,  1.47s/it]"
          ]
        },
        {
          "output_type": "stream",
          "name": "stdout",
          "text": [
            "15718 15718 15718 15718\n"
          ]
        },
        {
          "output_type": "stream",
          "name": "stderr",
          "text": [
            "\rProcessing Datasets:  85%|████████▌ | 51/60 [01:37<00:12,  1.42s/it]"
          ]
        },
        {
          "output_type": "stream",
          "name": "stdout",
          "text": [
            "15718 15718 15718 15718\n"
          ]
        },
        {
          "output_type": "stream",
          "name": "stderr",
          "text": [
            "\rProcessing Datasets:  87%|████████▋ | 52/60 [01:38<00:10,  1.35s/it]"
          ]
        },
        {
          "output_type": "stream",
          "name": "stdout",
          "text": [
            "15718 15718 15718 15718\n"
          ]
        },
        {
          "output_type": "stream",
          "name": "stderr",
          "text": [
            "\rProcessing Datasets:  88%|████████▊ | 53/60 [01:40<00:10,  1.45s/it]"
          ]
        },
        {
          "output_type": "stream",
          "name": "stdout",
          "text": [
            "15718 15718 15718 15718\n"
          ]
        },
        {
          "output_type": "stream",
          "name": "stderr",
          "text": [
            "\rProcessing Datasets:  90%|█████████ | 54/60 [01:41<00:08,  1.43s/it]"
          ]
        },
        {
          "output_type": "stream",
          "name": "stdout",
          "text": [
            "15718 15718 15718 15718\n"
          ]
        },
        {
          "output_type": "stream",
          "name": "stderr",
          "text": [
            "\rProcessing Datasets:  92%|█████████▏| 55/60 [01:43<00:07,  1.47s/it]"
          ]
        },
        {
          "output_type": "stream",
          "name": "stdout",
          "text": [
            "15718 15718 15718 15718\n"
          ]
        },
        {
          "output_type": "stream",
          "name": "stderr",
          "text": [
            "\rProcessing Datasets:  93%|█████████▎| 56/60 [01:44<00:06,  1.53s/it]"
          ]
        },
        {
          "output_type": "stream",
          "name": "stdout",
          "text": [
            "15718 15718 15718 15718\n"
          ]
        },
        {
          "output_type": "stream",
          "name": "stderr",
          "text": [
            "\rProcessing Datasets:  95%|█████████▌| 57/60 [01:46<00:04,  1.51s/it]"
          ]
        },
        {
          "output_type": "stream",
          "name": "stdout",
          "text": [
            "15718 15718 15718 15718\n"
          ]
        },
        {
          "output_type": "stream",
          "name": "stderr",
          "text": [
            "\rProcessing Datasets:  97%|█████████▋| 58/60 [01:47<00:02,  1.42s/it]"
          ]
        },
        {
          "output_type": "stream",
          "name": "stdout",
          "text": [
            "15718 15718 15718 15718\n"
          ]
        },
        {
          "output_type": "stream",
          "name": "stderr",
          "text": [
            "\rProcessing Datasets:  98%|█████████▊| 59/60 [01:48<00:01,  1.40s/it]"
          ]
        },
        {
          "output_type": "stream",
          "name": "stdout",
          "text": [
            "15718 15718 15718 15718\n"
          ]
        },
        {
          "output_type": "stream",
          "name": "stderr",
          "text": [
            "Processing Datasets: 100%|██████████| 60/60 [01:49<00:00,  1.83s/it]"
          ]
        },
        {
          "output_type": "stream",
          "name": "stdout",
          "text": [
            "15718 15718 15718 15718\n"
          ]
        },
        {
          "output_type": "stream",
          "name": "stderr",
          "text": [
            "\n"
          ]
        }
      ]
    },
    {
      "cell_type": "code",
      "source": [
        "from tensorflow.keras.layers import Input, Dense, Reshape, Flatten\n",
        "from tensorflow.keras.models import Model\n",
        "from tensorflow.keras.optimizers import Adam\n",
        "import numpy as np\n",
        "from tensorflow.keras import backend as K\n",
        "\n",
        "# Define or import processed_dataframes, X_train_list, y_train_list, max_length\n",
        "\n",
        "# Reshape and pad the data\n",
        "X_train_padded = []\n",
        "max_length = max(len(df) for df in processed_dataframes)\n",
        "\n",
        "for df in processed_dataframes:\n",
        "    df_padded = df.copy()\n",
        "    for col in df.columns:\n",
        "        df_padded[col] = np.pad(df[col].values, (0, max_length - len(df[col])), constant_values=0)\n",
        "\n",
        "    X_train_padded.append(df_padded[['mass_scaled', 'shell_thickness_scaled', 'y_coordinates_scaled']])\n",
        "\n",
        "X_train_padded = np.array([X.values for X in X_train_padded])\n",
        "\n",
        "# Define the number of epochs and batch size\n",
        "epochs = 100  # Change the number of epochs as needed\n",
        "batch_size = 10\n",
        "\n",
        "# Generator\n",
        "latent_dim = 100\n",
        "generator_input = Input(shape=(latent_dim,))\n",
        "x = Dense(128, activation='relu')(generator_input)\n",
        "x = Dense(256, activation='relu')(x)\n",
        "generator_output = Dense(max_length * X_train_padded.shape[2], activation='linear')(x)\n",
        "generator_output = Reshape((max_length, X_train_padded.shape[2]))(generator_output)\n",
        "generator = Model(generator_input, generator_output)\n",
        "\n",
        "# Discriminator\n",
        "discriminator_input = Input(shape=(max_length, X_train_padded.shape[2]))\n",
        "x = Flatten()(discriminator_input)\n",
        "x = Dense(512, activation='relu')(x)\n",
        "x = Dense(256, activation='relu')(x)\n",
        "discriminator_output = Dense(1, activation='sigmoid')(x)\n",
        "discriminator = Model(discriminator_input, discriminator_output)\n",
        "discriminator.compile(optimizer=Adam(learning_rate=0.0002), loss='mse')  # Change loss to 'mse'\n",
        "\n",
        "# Combined Model (GAN)\n",
        "gan_input = Input(shape=(latent_dim,))\n",
        "gan_output = discriminator(generator(gan_input))\n",
        "gan = Model(gan_input, gan_output)\n",
        "gan.compile(optimizer=Adam(learning_rate=0.0002), loss='mse')  # Change loss to 'mse'\n",
        "\n",
        "# Training Loop\n",
        "for epoch in range(epochs):\n",
        "    print(f'Epoch {epoch + 1}/{epochs}:')\n",
        "    for i in range(0, len(X_train_padded), batch_size):\n",
        "        X_train_batch = X_train_padded[i:i+batch_size]\n",
        "\n",
        "        # Sample random noise as input to the generator\n",
        "        noise = np.random.normal(0, 1, (len(X_train_batch), latent_dim))\n",
        "\n",
        "        # Generate a batch of new sequences\n",
        "        generated_sequences = generator.predict(noise)\n",
        "\n",
        "        # Reshape X_train_batch to match the shape of generated_sequences\n",
        "        X_train_batch_reshaped = X_train_batch.reshape(-1, max_length, X_train_padded.shape[2])\n",
        "\n",
        "        # Combine generated sequences with real sequences\n",
        "        X_combined = np.concatenate([X_train_batch_reshaped, generated_sequences])\n",
        "        y_combined = np.concatenate([np.ones((len(X_train_batch_reshaped), 1)), np.zeros((len(generated_sequences), 1))])\n",
        "\n",
        "        # Train discriminator\n",
        "        d_loss = discriminator.train_on_batch(X_combined, y_combined)\n",
        "\n",
        "        # Train generator (via GAN)\n",
        "        noise = np.random.normal(0, 1, (len(X_train_batch_reshaped), latent_dim))\n",
        "        y_gan = np.ones((len(X_train_batch_reshaped), 1))\n",
        "        g_loss = gan.train_on_batch(noise, y_gan)\n",
        "\n",
        "    # Print progress after each epoch\n",
        "    print(f'Discriminator Loss: {d_loss}, Generator Loss: {g_loss}')\n",
        "\n",
        "    # Clear session to release memory\n",
        "    K.clear_session()\n"
      ],
      "metadata": {
        "colab": {
          "base_uri": "https://localhost:8080/"
        },
        "id": "u4dw6lNplEFo",
        "outputId": "f5fa6f2c-ae0a-43a8-a3fc-a5cc97d417d8"
      },
      "execution_count": null,
      "outputs": [
        {
          "output_type": "stream",
          "name": "stdout",
          "text": [
            "Epoch 1/100:\n",
            "1/1 [==============================] - 0s 254ms/step\n",
            "1/1 [==============================] - 0s 52ms/step\n",
            "1/1 [==============================] - 0s 34ms/step\n",
            "1/1 [==============================] - 0s 32ms/step\n",
            "1/1 [==============================] - 0s 33ms/step\n",
            "1/1 [==============================] - 0s 34ms/step\n",
            "Discriminator Loss: 0.23483283817768097, Generator Loss: 0.14188380539417267\n",
            "Epoch 2/100:\n",
            "1/1 [==============================] - 0s 79ms/step\n",
            "1/1 [==============================] - 0s 49ms/step\n",
            "1/1 [==============================] - 0s 69ms/step\n",
            "1/1 [==============================] - 0s 50ms/step\n",
            "1/1 [==============================] - 0s 51ms/step\n",
            "1/1 [==============================] - 0s 50ms/step\n",
            "Discriminator Loss: 0.36599424481391907, Generator Loss: 0.057647954672575\n",
            "Epoch 3/100:\n",
            "1/1 [==============================] - 0s 48ms/step\n",
            "1/1 [==============================] - 0s 35ms/step\n",
            "1/1 [==============================] - 0s 119ms/step\n",
            "1/1 [==============================] - 0s 116ms/step\n",
            "1/1 [==============================] - 0s 144ms/step\n",
            "1/1 [==============================] - 0s 98ms/step\n",
            "Discriminator Loss: 0.420909583568573, Generator Loss: 0.022900324314832687\n",
            "Epoch 4/100:\n",
            "1/1 [==============================] - 0s 74ms/step\n",
            "1/1 [==============================] - 0s 63ms/step\n",
            "1/1 [==============================] - 0s 36ms/step\n",
            "1/1 [==============================] - 0s 32ms/step\n",
            "1/1 [==============================] - 0s 32ms/step\n",
            "1/1 [==============================] - 0s 32ms/step\n",
            "Discriminator Loss: 0.4410712718963623, Generator Loss: 0.021293440833687782\n",
            "Epoch 5/100:\n",
            "1/1 [==============================] - 0s 75ms/step\n",
            "1/1 [==============================] - 0s 49ms/step\n",
            "1/1 [==============================] - 0s 55ms/step\n",
            "1/1 [==============================] - 0s 33ms/step\n",
            "1/1 [==============================] - 0s 33ms/step\n",
            "1/1 [==============================] - 0s 35ms/step\n",
            "Discriminator Loss: 0.43669548630714417, Generator Loss: 0.02055438607931137\n",
            "Epoch 6/100:\n",
            "1/1 [==============================] - 0s 50ms/step\n",
            "1/1 [==============================] - 0s 34ms/step\n",
            "1/1 [==============================] - 0s 34ms/step\n",
            "1/1 [==============================] - 0s 35ms/step\n",
            "1/1 [==============================] - 0s 36ms/step\n",
            "1/1 [==============================] - 0s 33ms/step\n",
            "Discriminator Loss: 0.44442039728164673, Generator Loss: 0.01544285099953413\n",
            "Epoch 7/100:\n",
            "1/1 [==============================] - 0s 78ms/step\n",
            "1/1 [==============================] - 0s 52ms/step\n",
            "1/1 [==============================] - 0s 49ms/step\n",
            "1/1 [==============================] - 0s 37ms/step\n",
            "1/1 [==============================] - 0s 34ms/step\n",
            "1/1 [==============================] - 0s 32ms/step\n",
            "Discriminator Loss: 0.4666374623775482, Generator Loss: 0.012909254059195518\n",
            "Epoch 8/100:\n",
            "1/1 [==============================] - 0s 54ms/step\n",
            "1/1 [==============================] - 0s 36ms/step\n",
            "1/1 [==============================] - 0s 34ms/step\n",
            "1/1 [==============================] - 0s 32ms/step\n",
            "1/1 [==============================] - 0s 33ms/step\n",
            "1/1 [==============================] - 0s 44ms/step\n",
            "Discriminator Loss: 0.470419317483902, Generator Loss: 0.005613348912447691\n",
            "Epoch 9/100:\n",
            "1/1 [==============================] - 0s 79ms/step\n",
            "1/1 [==============================] - 0s 62ms/step\n",
            "1/1 [==============================] - 0s 34ms/step\n",
            "1/1 [==============================] - 0s 34ms/step\n",
            "1/1 [==============================] - 0s 34ms/step\n",
            "1/1 [==============================] - 0s 35ms/step\n",
            "Discriminator Loss: 0.4703036844730377, Generator Loss: 0.008467835374176502\n",
            "Epoch 10/100:\n",
            "1/1 [==============================] - 0s 50ms/step\n",
            "1/1 [==============================] - 0s 36ms/step\n",
            "1/1 [==============================] - 0s 33ms/step\n",
            "1/1 [==============================] - 0s 32ms/step\n",
            "1/1 [==============================] - 0s 48ms/step\n",
            "1/1 [==============================] - 0s 49ms/step\n",
            "Discriminator Loss: 0.48089510202407837, Generator Loss: 0.004727183375507593\n",
            "Epoch 11/100:\n",
            "1/1 [==============================] - 0s 78ms/step\n",
            "1/1 [==============================] - 0s 34ms/step\n",
            "1/1 [==============================] - 0s 43ms/step\n",
            "1/1 [==============================] - 0s 34ms/step\n",
            "1/1 [==============================] - 0s 35ms/step\n",
            "1/1 [==============================] - 0s 38ms/step\n",
            "Discriminator Loss: 0.4949987828731537, Generator Loss: 0.001011520973406732\n",
            "Epoch 12/100:\n",
            "1/1 [==============================] - 0s 50ms/step\n",
            "1/1 [==============================] - 0s 35ms/step\n",
            "1/1 [==============================] - 0s 34ms/step\n",
            "1/1 [==============================] - 0s 61ms/step\n",
            "1/1 [==============================] - 0s 51ms/step\n",
            "1/1 [==============================] - 0s 55ms/step\n",
            "Discriminator Loss: 0.49232226610183716, Generator Loss: 0.0005224867491051555\n",
            "Epoch 13/100:\n",
            "1/1 [==============================] - 0s 50ms/step\n",
            "1/1 [==============================] - 0s 39ms/step\n",
            "1/1 [==============================] - 0s 36ms/step\n",
            "1/1 [==============================] - 0s 36ms/step\n",
            "1/1 [==============================] - 0s 41ms/step\n",
            "1/1 [==============================] - 0s 34ms/step\n",
            "Discriminator Loss: 0.47719240188598633, Generator Loss: 0.013332920148968697\n",
            "Epoch 14/100:\n",
            "1/1 [==============================] - 0s 51ms/step\n",
            "1/1 [==============================] - 0s 36ms/step\n",
            "1/1 [==============================] - 0s 51ms/step\n",
            "1/1 [==============================] - 0s 52ms/step\n",
            "1/1 [==============================] - 0s 52ms/step\n",
            "1/1 [==============================] - 0s 35ms/step\n",
            "Discriminator Loss: 0.4966921806335449, Generator Loss: 0.00045615650014951825\n",
            "Epoch 15/100:\n",
            "1/1 [==============================] - 0s 51ms/step\n",
            "1/1 [==============================] - 0s 35ms/step\n",
            "1/1 [==============================] - 0s 35ms/step\n",
            "1/1 [==============================] - 0s 36ms/step\n",
            "1/1 [==============================] - 0s 35ms/step\n",
            "1/1 [==============================] - 0s 33ms/step\n",
            "Discriminator Loss: 0.49408620595932007, Generator Loss: 0.001255198149010539\n",
            "Epoch 16/100:\n",
            "1/1 [==============================] - 0s 51ms/step\n",
            "1/1 [==============================] - 0s 52ms/step\n",
            "1/1 [==============================] - 0s 58ms/step\n",
            "1/1 [==============================] - 0s 70ms/step\n",
            "1/1 [==============================] - 0s 35ms/step\n",
            "1/1 [==============================] - 0s 38ms/step\n",
            "Discriminator Loss: 0.478048175573349, Generator Loss: 0.013105899095535278\n",
            "Epoch 17/100:\n",
            "1/1 [==============================] - 0s 57ms/step\n",
            "1/1 [==============================] - 0s 35ms/step\n",
            "1/1 [==============================] - 0s 36ms/step\n",
            "1/1 [==============================] - 0s 34ms/step\n",
            "1/1 [==============================] - 0s 33ms/step\n",
            "1/1 [==============================] - 0s 35ms/step\n",
            "Discriminator Loss: 0.4996270537376404, Generator Loss: 2.9507323233701754e-06\n",
            "Epoch 18/100:\n",
            "1/1 [==============================] - 0s 51ms/step\n",
            "1/1 [==============================] - 0s 52ms/step\n",
            "1/1 [==============================] - 0s 48ms/step\n",
            "1/1 [==============================] - 0s 35ms/step\n",
            "1/1 [==============================] - 0s 33ms/step\n",
            "1/1 [==============================] - 0s 38ms/step\n",
            "Discriminator Loss: 0.4999638497829437, Generator Loss: 5.141303205391523e-08\n",
            "Epoch 19/100:\n",
            "1/1 [==============================] - 0s 52ms/step\n",
            "1/1 [==============================] - 0s 48ms/step\n",
            "1/1 [==============================] - 0s 33ms/step\n",
            "1/1 [==============================] - 0s 33ms/step\n",
            "1/1 [==============================] - 0s 35ms/step\n",
            "1/1 [==============================] - 0s 59ms/step\n",
            "Discriminator Loss: 0.49996957182884216, Generator Loss: 1.1559237123037747e-08\n",
            "Epoch 20/100:\n",
            "1/1 [==============================] - 0s 78ms/step\n",
            "1/1 [==============================] - 0s 61ms/step\n",
            "1/1 [==============================] - 0s 41ms/step\n",
            "1/1 [==============================] - 0s 34ms/step\n",
            "1/1 [==============================] - 0s 33ms/step\n",
            "1/1 [==============================] - 0s 34ms/step\n",
            "Discriminator Loss: 0.4997156262397766, Generator Loss: 3.3533240184624447e-08\n",
            "Epoch 21/100:\n",
            "1/1 [==============================] - 0s 53ms/step\n",
            "1/1 [==============================] - 0s 35ms/step\n",
            "1/1 [==============================] - 0s 46ms/step\n",
            "1/1 [==============================] - 0s 34ms/step\n",
            "1/1 [==============================] - 0s 46ms/step\n",
            "1/1 [==============================] - 0s 72ms/step\n",
            "Discriminator Loss: 0.4969559609889984, Generator Loss: 3.5611992643680423e-05\n",
            "Epoch 22/100:\n",
            "1/1 [==============================] - 0s 88ms/step\n",
            "1/1 [==============================] - 0s 38ms/step\n",
            "1/1 [==============================] - 0s 34ms/step\n",
            "1/1 [==============================] - 0s 36ms/step\n",
            "1/1 [==============================] - 0s 35ms/step\n",
            "1/1 [==============================] - 0s 37ms/step\n",
            "Discriminator Loss: 0.4990461766719818, Generator Loss: 0.00020891540043521672\n",
            "Epoch 23/100:\n",
            "1/1 [==============================] - 0s 50ms/step\n",
            "1/1 [==============================] - 0s 35ms/step\n",
            "1/1 [==============================] - 0s 35ms/step\n",
            "1/1 [==============================] - 0s 55ms/step\n",
            "1/1 [==============================] - 0s 49ms/step\n",
            "1/1 [==============================] - 0s 53ms/step\n",
            "Discriminator Loss: 0.49998149275779724, Generator Loss: 6.958027398695776e-08\n",
            "Epoch 24/100:\n",
            "1/1 [==============================] - 0s 57ms/step\n",
            "1/1 [==============================] - 0s 35ms/step\n",
            "1/1 [==============================] - 0s 37ms/step\n",
            "1/1 [==============================] - 0s 34ms/step\n",
            "1/1 [==============================] - 0s 34ms/step\n",
            "1/1 [==============================] - 0s 33ms/step\n",
            "Discriminator Loss: 0.49999308586120605, Generator Loss: 2.0106298570521375e-10\n",
            "Epoch 25/100:\n",
            "1/1 [==============================] - 0s 53ms/step\n",
            "1/1 [==============================] - 0s 36ms/step\n",
            "1/1 [==============================] - 0s 33ms/step\n",
            "1/1 [==============================] - 0s 49ms/step\n",
            "1/1 [==============================] - 0s 49ms/step\n",
            "1/1 [==============================] - 0s 52ms/step\n",
            "Discriminator Loss: 0.4999905228614807, Generator Loss: 3.345039356617008e-09\n",
            "Epoch 26/100:\n",
            "1/1 [==============================] - 0s 51ms/step\n",
            "1/1 [==============================] - 0s 35ms/step\n",
            "1/1 [==============================] - 0s 35ms/step\n",
            "1/1 [==============================] - 0s 33ms/step\n",
            "1/1 [==============================] - 0s 34ms/step\n",
            "1/1 [==============================] - 0s 35ms/step\n",
            "Discriminator Loss: 0.49998003244400024, Generator Loss: 5.015809989572517e-10\n",
            "Epoch 27/100:\n",
            "1/1 [==============================] - 0s 51ms/step\n",
            "1/1 [==============================] - 0s 34ms/step\n",
            "1/1 [==============================] - 0s 49ms/step\n",
            "1/1 [==============================] - 0s 52ms/step\n",
            "1/1 [==============================] - 0s 63ms/step\n",
            "1/1 [==============================] - 0s 33ms/step\n",
            "Discriminator Loss: 0.4999768137931824, Generator Loss: 1.598570875671612e-08\n",
            "Epoch 28/100:\n",
            "1/1 [==============================] - 0s 54ms/step\n",
            "1/1 [==============================] - 0s 50ms/step\n",
            "1/1 [==============================] - 0s 56ms/step\n",
            "1/1 [==============================] - 0s 56ms/step\n",
            "1/1 [==============================] - 0s 36ms/step\n",
            "1/1 [==============================] - 0s 33ms/step\n",
            "Discriminator Loss: 0.4998697340488434, Generator Loss: 1.0951605133868725e-07\n",
            "Epoch 29/100:\n",
            "1/1 [==============================] - 0s 77ms/step\n",
            "1/1 [==============================] - 0s 50ms/step\n",
            "1/1 [==============================] - 0s 56ms/step\n",
            "1/1 [==============================] - 0s 35ms/step\n",
            "1/1 [==============================] - 0s 35ms/step\n",
            "1/1 [==============================] - 0s 35ms/step\n",
            "Discriminator Loss: 0.49936431646347046, Generator Loss: 6.6016195887641516e-06\n",
            "Epoch 30/100:\n",
            "1/1 [==============================] - 0s 53ms/step\n",
            "1/1 [==============================] - 0s 34ms/step\n",
            "1/1 [==============================] - 0s 35ms/step\n",
            "1/1 [==============================] - 0s 33ms/step\n",
            "1/1 [==============================] - 0s 33ms/step\n",
            "1/1 [==============================] - 0s 55ms/step\n",
            "Discriminator Loss: 0.4987606108188629, Generator Loss: 0.0006045494810678065\n",
            "Epoch 31/100:\n",
            "1/1 [==============================] - 0s 82ms/step\n",
            "1/1 [==============================] - 0s 57ms/step\n",
            "1/1 [==============================] - 0s 35ms/step\n",
            "1/1 [==============================] - 0s 35ms/step\n",
            "1/1 [==============================] - 0s 39ms/step\n",
            "1/1 [==============================] - 0s 35ms/step\n",
            "Discriminator Loss: 0.49996519088745117, Generator Loss: 1.672963634291591e-07\n",
            "Epoch 32/100:\n",
            "1/1 [==============================] - 0s 51ms/step\n",
            "1/1 [==============================] - 0s 34ms/step\n",
            "1/1 [==============================] - 0s 36ms/step\n",
            "1/1 [==============================] - 0s 45ms/step\n",
            "1/1 [==============================] - 0s 55ms/step\n",
            "1/1 [==============================] - 0s 56ms/step\n",
            "Discriminator Loss: 0.49994784593582153, Generator Loss: 2.0240547016214805e-08\n",
            "Epoch 33/100:\n",
            "1/1 [==============================] - 0s 84ms/step\n",
            "1/1 [==============================] - 0s 34ms/step\n",
            "1/1 [==============================] - 0s 34ms/step\n",
            "1/1 [==============================] - 0s 33ms/step\n",
            "1/1 [==============================] - 0s 38ms/step\n",
            "1/1 [==============================] - 0s 37ms/step\n",
            "Discriminator Loss: 0.49996766448020935, Generator Loss: 8.771910309235409e-09\n",
            "Epoch 34/100:\n",
            "1/1 [==============================] - 0s 61ms/step\n",
            "1/1 [==============================] - 0s 35ms/step\n",
            "1/1 [==============================] - 0s 35ms/step\n",
            "1/1 [==============================] - 0s 52ms/step\n",
            "1/1 [==============================] - 0s 50ms/step\n",
            "1/1 [==============================] - 0s 56ms/step\n",
            "Discriminator Loss: 0.49994736909866333, Generator Loss: 9.139430545701543e-09\n",
            "Epoch 35/100:\n",
            "1/1 [==============================] - 0s 53ms/step\n",
            "1/1 [==============================] - 0s 35ms/step\n",
            "1/1 [==============================] - 0s 34ms/step\n",
            "1/1 [==============================] - 0s 36ms/step\n",
            "1/1 [==============================] - 0s 34ms/step\n",
            "1/1 [==============================] - 0s 35ms/step\n",
            "Discriminator Loss: 0.49980050325393677, Generator Loss: 2.5180003149216645e-07\n",
            "Epoch 36/100:\n",
            "1/1 [==============================] - 0s 52ms/step\n",
            "1/1 [==============================] - 0s 35ms/step\n",
            "1/1 [==============================] - 0s 34ms/step\n",
            "1/1 [==============================] - 0s 69ms/step\n",
            "1/1 [==============================] - 0s 46ms/step\n",
            "1/1 [==============================] - 0s 48ms/step\n",
            "Discriminator Loss: 0.4975220263004303, Generator Loss: 0.0024960224982351065\n",
            "Epoch 37/100:\n",
            "1/1 [==============================] - 0s 54ms/step\n",
            "1/1 [==============================] - 0s 34ms/step\n",
            "1/1 [==============================] - 0s 34ms/step\n",
            "1/1 [==============================] - 0s 37ms/step\n",
            "1/1 [==============================] - 0s 35ms/step\n",
            "1/1 [==============================] - 0s 35ms/step\n",
            "Discriminator Loss: 0.49998894333839417, Generator Loss: 1.4405825865537736e-08\n",
            "Epoch 38/100:\n",
            "1/1 [==============================] - 0s 56ms/step\n",
            "1/1 [==============================] - 0s 34ms/step\n",
            "1/1 [==============================] - 0s 52ms/step\n",
            "1/1 [==============================] - 0s 56ms/step\n",
            "1/1 [==============================] - 0s 54ms/step\n",
            "1/1 [==============================] - 0s 37ms/step\n",
            "Discriminator Loss: 0.4999944567680359, Generator Loss: 1.5473489156647702e-10\n",
            "Epoch 39/100:\n",
            "1/1 [==============================] - 0s 55ms/step\n",
            "1/1 [==============================] - 0s 35ms/step\n",
            "1/1 [==============================] - 0s 34ms/step\n",
            "1/1 [==============================] - 0s 33ms/step\n",
            "1/1 [==============================] - 0s 34ms/step\n",
            "1/1 [==============================] - 0s 33ms/step\n",
            "Discriminator Loss: 0.49999943375587463, Generator Loss: 2.0602187490725843e-12\n",
            "Epoch 40/100:\n",
            "1/1 [==============================] - 0s 54ms/step\n",
            "1/1 [==============================] - 0s 47ms/step\n",
            "1/1 [==============================] - 0s 50ms/step\n",
            "1/1 [==============================] - 0s 67ms/step\n",
            "1/1 [==============================] - 0s 36ms/step\n",
            "1/1 [==============================] - 0s 33ms/step\n",
            "Discriminator Loss: 0.4999997019767761, Generator Loss: 1.6342482922482304e-13\n",
            "Epoch 41/100:\n",
            "1/1 [==============================] - 0s 55ms/step\n",
            "1/1 [==============================] - 0s 35ms/step\n",
            "1/1 [==============================] - 0s 34ms/step\n",
            "1/1 [==============================] - 0s 35ms/step\n",
            "1/1 [==============================] - 0s 34ms/step\n",
            "1/1 [==============================] - 0s 35ms/step\n",
            "Discriminator Loss: 0.49999985098838806, Generator Loss: 5.329070518200751e-13\n",
            "Epoch 42/100:\n",
            "1/1 [==============================] - 0s 53ms/step\n",
            "1/1 [==============================] - 0s 54ms/step\n",
            "1/1 [==============================] - 0s 52ms/step\n",
            "1/1 [==============================] - 0s 54ms/step\n",
            "1/1 [==============================] - 0s 34ms/step\n",
            "1/1 [==============================] - 0s 34ms/step\n",
            "Discriminator Loss: 0.49999991059303284, Generator Loss: 2.877698215353677e-14\n",
            "Epoch 43/100:\n",
            "1/1 [==============================] - 0s 56ms/step\n",
            "1/1 [==============================] - 0s 39ms/step\n",
            "1/1 [==============================] - 0s 36ms/step\n",
            "1/1 [==============================] - 0s 34ms/step\n",
            "1/1 [==============================] - 0s 34ms/step\n",
            "1/1 [==============================] - 0s 34ms/step\n",
            "Discriminator Loss: 0.5, Generator Loss: 1.2008172234345693e-12\n",
            "Epoch 44/100:\n",
            "1/1 [==============================] - 0s 81ms/step\n",
            "1/1 [==============================] - 0s 58ms/step\n",
            "1/1 [==============================] - 0s 56ms/step\n",
            "1/1 [==============================] - 0s 35ms/step\n",
            "1/1 [==============================] - 0s 34ms/step\n",
            "1/1 [==============================] - 0s 41ms/step\n",
            "Discriminator Loss: 0.49999961256980896, Generator Loss: 7.24753576922775e-14\n",
            "Epoch 45/100:\n",
            "1/1 [==============================] - 0s 53ms/step\n",
            "1/1 [==============================] - 0s 34ms/step\n",
            "1/1 [==============================] - 0s 33ms/step\n",
            "1/1 [==============================] - 0s 34ms/step\n",
            "1/1 [==============================] - 0s 34ms/step\n",
            "1/1 [==============================] - 0s 53ms/step\n",
            "Discriminator Loss: 0.4999998211860657, Generator Loss: 6.568967375261692e-13\n",
            "Epoch 46/100:\n",
            "1/1 [==============================] - 0s 80ms/step\n",
            "1/1 [==============================] - 0s 55ms/step\n",
            "1/1 [==============================] - 0s 38ms/step\n",
            "1/1 [==============================] - 0s 33ms/step\n",
            "1/1 [==============================] - 0s 33ms/step\n",
            "1/1 [==============================] - 0s 36ms/step\n",
            "Discriminator Loss: 0.49999991059303284, Generator Loss: 2.984279490192421e-13\n",
            "Epoch 47/100:\n",
            "1/1 [==============================] - 0s 56ms/step\n",
            "1/1 [==============================] - 0s 35ms/step\n",
            "1/1 [==============================] - 0s 42ms/step\n",
            "1/1 [==============================] - 0s 34ms/step\n",
            "1/1 [==============================] - 0s 35ms/step\n",
            "1/1 [==============================] - 0s 56ms/step\n",
            "Discriminator Loss: 0.4999997019767761, Generator Loss: 2.3554492774649494e-13\n",
            "Epoch 48/100:\n",
            "1/1 [==============================] - 0s 77ms/step\n",
            "1/1 [==============================] - 0s 52ms/step\n",
            "1/1 [==============================] - 0s 34ms/step\n",
            "1/1 [==============================] - 0s 33ms/step\n",
            "1/1 [==============================] - 0s 38ms/step\n",
            "1/1 [==============================] - 0s 43ms/step\n",
            "Discriminator Loss: 0.5, Generator Loss: 3.2329695832337274e-14\n",
            "Epoch 49/100:\n",
            "1/1 [==============================] - 0s 52ms/step\n",
            "1/1 [==============================] - 0s 39ms/step\n",
            "1/1 [==============================] - 0s 33ms/step\n",
            "1/1 [==============================] - 0s 33ms/step\n",
            "1/1 [==============================] - 0s 70ms/step\n",
            "1/1 [==============================] - 0s 49ms/step\n",
            "Discriminator Loss: 0.5, Generator Loss: 2.508215803023045e-13\n",
            "Epoch 50/100:\n",
            "1/1 [==============================] - 0s 85ms/step\n",
            "1/1 [==============================] - 0s 37ms/step\n",
            "1/1 [==============================] - 0s 35ms/step\n",
            "1/1 [==============================] - 0s 32ms/step\n",
            "1/1 [==============================] - 0s 37ms/step\n",
            "1/1 [==============================] - 0s 35ms/step\n",
            "Discriminator Loss: 0.49999991059303284, Generator Loss: 2.7817749189210095e-13\n",
            "Epoch 51/100:\n",
            "1/1 [==============================] - 0s 58ms/step\n",
            "1/1 [==============================] - 0s 35ms/step\n",
            "1/1 [==============================] - 0s 33ms/step\n",
            "1/1 [==============================] - 0s 51ms/step\n",
            "1/1 [==============================] - 0s 50ms/step\n",
            "1/1 [==============================] - 0s 59ms/step\n",
            "Discriminator Loss: 0.5, Generator Loss: 1.1723954970635064e-14\n",
            "Epoch 52/100:\n",
            "1/1 [==============================] - 0s 77ms/step\n",
            "1/1 [==============================] - 0s 34ms/step\n",
            "1/1 [==============================] - 0s 44ms/step\n",
            "1/1 [==============================] - 0s 33ms/step\n",
            "1/1 [==============================] - 0s 33ms/step\n",
            "1/1 [==============================] - 0s 35ms/step\n",
            "Discriminator Loss: 0.49999991059303284, Generator Loss: 2.0250467291536497e-14\n",
            "Epoch 53/100:\n",
            "1/1 [==============================] - 0s 54ms/step\n",
            "1/1 [==============================] - 0s 33ms/step\n",
            "1/1 [==============================] - 0s 35ms/step\n",
            "1/1 [==============================] - 0s 49ms/step\n",
            "1/1 [==============================] - 0s 52ms/step\n",
            "1/1 [==============================] - 0s 52ms/step\n",
            "Discriminator Loss: 0.4999999403953552, Generator Loss: 7.140954629914278e-14\n",
            "Epoch 54/100:\n",
            "1/1 [==============================] - 0s 53ms/step\n",
            "1/1 [==============================] - 0s 34ms/step\n",
            "1/1 [==============================] - 0s 36ms/step\n",
            "1/1 [==============================] - 0s 36ms/step\n",
            "1/1 [==============================] - 0s 35ms/step\n",
            "1/1 [==============================] - 0s 34ms/step\n",
            "Discriminator Loss: 0.49999967217445374, Generator Loss: 2.476241325703732e-13\n",
            "Epoch 55/100:\n",
            "1/1 [==============================] - 0s 51ms/step\n",
            "1/1 [==============================] - 0s 35ms/step\n",
            "1/1 [==============================] - 0s 50ms/step\n",
            "1/1 [==============================] - 0s 49ms/step\n",
            "1/1 [==============================] - 0s 52ms/step\n",
            "1/1 [==============================] - 0s 36ms/step\n",
            "Discriminator Loss: 0.5, Generator Loss: 5.5777604079541507e-14\n",
            "Epoch 56/100:\n",
            "1/1 [==============================] - 0s 54ms/step\n",
            "1/1 [==============================] - 0s 64ms/step\n",
            "1/1 [==============================] - 0s 52ms/step\n",
            "1/1 [==============================] - 0s 52ms/step\n",
            "1/1 [==============================] - 0s 42ms/step\n",
            "1/1 [==============================] - 0s 34ms/step\n",
            "Discriminator Loss: 0.4999999403953552, Generator Loss: 3.864997297903239e-12\n",
            "Epoch 57/100:\n",
            "1/1 [==============================] - 0s 83ms/step\n",
            "1/1 [==============================] - 0s 56ms/step\n",
            "1/1 [==============================] - 0s 63ms/step\n",
            "1/1 [==============================] - 0s 35ms/step\n",
            "1/1 [==============================] - 0s 44ms/step\n",
            "1/1 [==============================] - 0s 35ms/step\n",
            "Discriminator Loss: 0.49999961256980896, Generator Loss: 2.3920420765682904e-12\n",
            "Epoch 58/100:\n",
            "1/1 [==============================] - 0s 52ms/step\n",
            "1/1 [==============================] - 0s 35ms/step\n",
            "1/1 [==============================] - 0s 34ms/step\n",
            "1/1 [==============================] - 0s 34ms/step\n",
            "1/1 [==============================] - 0s 33ms/step\n",
            "1/1 [==============================] - 0s 57ms/step\n",
            "Discriminator Loss: 0.49999991059303284, Generator Loss: 1.9184654204335884e-14\n",
            "Epoch 59/100:\n",
            "1/1 [==============================] - 0s 86ms/step\n",
            "1/1 [==============================] - 0s 64ms/step\n",
            "1/1 [==============================] - 0s 34ms/step\n",
            "1/1 [==============================] - 0s 34ms/step\n",
            "1/1 [==============================] - 0s 34ms/step\n",
            "1/1 [==============================] - 0s 34ms/step\n",
            "Discriminator Loss: 0.5, Generator Loss: 1.2079226846734882e-14\n",
            "Epoch 60/100:\n",
            "1/1 [==============================] - 0s 58ms/step\n",
            "1/1 [==============================] - 0s 35ms/step\n",
            "1/1 [==============================] - 0s 35ms/step\n",
            "1/1 [==============================] - 0s 34ms/step\n",
            "1/1 [==============================] - 0s 53ms/step\n",
            "1/1 [==============================] - 0s 53ms/step\n",
            "Discriminator Loss: 0.4999995231628418, Generator Loss: 4.0500934583072995e-14\n",
            "Epoch 61/100:\n",
            "1/1 [==============================] - 0s 83ms/step\n",
            "1/1 [==============================] - 0s 36ms/step\n",
            "1/1 [==============================] - 0s 42ms/step\n",
            "1/1 [==============================] - 0s 37ms/step\n",
            "1/1 [==============================] - 0s 38ms/step\n",
            "1/1 [==============================] - 0s 35ms/step\n",
            "Discriminator Loss: 0.4999995827674866, Generator Loss: 2.3447909941270127e-14\n",
            "Epoch 62/100:\n",
            "1/1 [==============================] - 0s 52ms/step\n",
            "1/1 [==============================] - 0s 34ms/step\n",
            "1/1 [==============================] - 0s 34ms/step\n",
            "1/1 [==============================] - 0s 65ms/step\n",
            "1/1 [==============================] - 0s 50ms/step\n",
            "1/1 [==============================] - 0s 55ms/step\n",
            "Discriminator Loss: 0.5, Generator Loss: 2.1316282919835953e-15\n",
            "Epoch 63/100:\n",
            "1/1 [==============================] - 0s 83ms/step\n",
            "1/1 [==============================] - 0s 41ms/step\n",
            "1/1 [==============================] - 0s 35ms/step\n",
            "1/1 [==============================] - 0s 36ms/step\n",
            "1/1 [==============================] - 0s 36ms/step\n",
            "1/1 [==============================] - 0s 35ms/step\n",
            "Discriminator Loss: 0.49999991059303284, Generator Loss: 1.880096122189312e-12\n",
            "Epoch 64/100:\n",
            "1/1 [==============================] - 0s 57ms/step\n",
            "1/1 [==============================] - 0s 35ms/step\n",
            "1/1 [==============================] - 0s 34ms/step\n",
            "1/1 [==============================] - 0s 53ms/step\n",
            "1/1 [==============================] - 0s 57ms/step\n",
            "1/1 [==============================] - 0s 52ms/step\n",
            "Discriminator Loss: 0.49999985098838806, Generator Loss: 1.3500311810035314e-14\n",
            "Epoch 65/100:\n",
            "1/1 [==============================] - 0s 67ms/step\n",
            "1/1 [==============================] - 0s 36ms/step\n",
            "1/1 [==============================] - 0s 33ms/step\n",
            "1/1 [==============================] - 0s 34ms/step\n",
            "1/1 [==============================] - 0s 33ms/step\n",
            "1/1 [==============================] - 0s 35ms/step\n",
            "Discriminator Loss: 0.499999463558197, Generator Loss: 5.5777604079541507e-14\n",
            "Epoch 66/100:\n",
            "1/1 [==============================] - 0s 54ms/step\n",
            "1/1 [==============================] - 0s 36ms/step\n",
            "1/1 [==============================] - 0s 65ms/step\n",
            "1/1 [==============================] - 0s 47ms/step\n",
            "1/1 [==============================] - 0s 55ms/step\n",
            "1/1 [==============================] - 0s 35ms/step\n",
            "Discriminator Loss: 0.49999991059303284, Generator Loss: 1.5489831097469098e-13\n",
            "Epoch 67/100:\n",
            "1/1 [==============================] - 0s 54ms/step\n",
            "1/1 [==============================] - 0s 34ms/step\n",
            "1/1 [==============================] - 0s 38ms/step\n",
            "1/1 [==============================] - 0s 35ms/step\n",
            "1/1 [==============================] - 0s 34ms/step\n",
            "1/1 [==============================] - 0s 35ms/step\n",
            "Discriminator Loss: 0.49999991059303284, Generator Loss: 1.3216095156188407e-13\n",
            "Epoch 68/100:\n",
            "1/1 [==============================] - 0s 50ms/step\n",
            "1/1 [==============================] - 0s 70ms/step\n",
            "1/1 [==============================] - 0s 49ms/step\n",
            "1/1 [==============================] - 0s 56ms/step\n",
            "1/1 [==============================] - 0s 34ms/step\n",
            "1/1 [==============================] - 0s 33ms/step\n",
            "Discriminator Loss: 0.4999998211860657, Generator Loss: 9.272582837194579e-14\n",
            "Epoch 69/100:\n",
            "1/1 [==============================] - 0s 53ms/step\n",
            "1/1 [==============================] - 0s 36ms/step\n",
            "1/1 [==============================] - 0s 34ms/step\n",
            "1/1 [==============================] - 0s 33ms/step\n",
            "1/1 [==============================] - 0s 33ms/step\n",
            "1/1 [==============================] - 0s 39ms/step\n",
            "Discriminator Loss: 0.4999997019767761, Generator Loss: 3.7658766350538025e-14\n",
            "Epoch 70/100:\n",
            "1/1 [==============================] - 0s 51ms/step\n",
            "1/1 [==============================] - 0s 56ms/step\n",
            "1/1 [==============================] - 0s 48ms/step\n",
            "1/1 [==============================] - 0s 37ms/step\n",
            "1/1 [==============================] - 0s 36ms/step\n",
            "1/1 [==============================] - 0s 34ms/step\n",
            "Discriminator Loss: 0.49999985098838806, Generator Loss: 2.4868995328087033e-15\n",
            "Epoch 71/100:\n",
            "1/1 [==============================] - 0s 54ms/step\n",
            "1/1 [==============================] - 0s 36ms/step\n",
            "1/1 [==============================] - 0s 34ms/step\n",
            "1/1 [==============================] - 0s 33ms/step\n",
            "1/1 [==============================] - 0s 45ms/step\n",
            "1/1 [==============================] - 0s 51ms/step\n",
            "Discriminator Loss: 0.4999990463256836, Generator Loss: 1.2292388786548647e-13\n",
            "Epoch 72/100:\n",
            "1/1 [==============================] - 0s 75ms/step\n",
            "1/1 [==============================] - 0s 68ms/step\n",
            "1/1 [==============================] - 0s 34ms/step\n",
            "1/1 [==============================] - 0s 34ms/step\n",
            "1/1 [==============================] - 0s 34ms/step\n",
            "1/1 [==============================] - 0s 35ms/step\n",
            "Discriminator Loss: 0.4999998211860657, Generator Loss: 7.034372812974449e-14\n",
            "Epoch 73/100:\n",
            "1/1 [==============================] - 0s 61ms/step\n",
            "1/1 [==============================] - 0s 35ms/step\n",
            "1/1 [==============================] - 0s 34ms/step\n",
            "1/1 [==============================] - 0s 36ms/step\n",
            "1/1 [==============================] - 0s 37ms/step\n",
            "1/1 [==============================] - 0s 47ms/step\n",
            "Discriminator Loss: 0.49999943375587463, Generator Loss: 6.959765879929747e-13\n",
            "Epoch 74/100:\n",
            "1/1 [==============================] - 0s 95ms/step\n",
            "1/1 [==============================] - 0s 48ms/step\n",
            "1/1 [==============================] - 0s 33ms/step\n",
            "1/1 [==============================] - 0s 34ms/step\n",
            "1/1 [==============================] - 0s 34ms/step\n",
            "1/1 [==============================] - 0s 33ms/step\n",
            "Discriminator Loss: 0.4999997019767761, Generator Loss: 2.0534684792416352e-13\n",
            "Epoch 75/100:\n",
            "1/1 [==============================] - 0s 53ms/step\n",
            "1/1 [==============================] - 0s 35ms/step\n",
            "1/1 [==============================] - 0s 38ms/step\n",
            "1/1 [==============================] - 0s 34ms/step\n",
            "1/1 [==============================] - 0s 182ms/step\n",
            "1/1 [==============================] - 0s 199ms/step\n",
            "Discriminator Loss: 0.4999997019767761, Generator Loss: 3.55271373174006e-16\n",
            "Epoch 76/100:\n",
            "1/1 [==============================] - 0s 214ms/step\n",
            "1/1 [==============================] - 0s 107ms/step\n",
            "1/1 [==============================] - 0s 84ms/step\n",
            "1/1 [==============================] - 0s 59ms/step\n",
            "1/1 [==============================] - 0s 56ms/step\n",
            "1/1 [==============================] - 0s 35ms/step\n",
            "Discriminator Loss: 0.4999999403953552, Generator Loss: 8.638316451037298e-11\n",
            "Epoch 77/100:\n",
            "1/1 [==============================] - 0s 53ms/step\n",
            "1/1 [==============================] - 0s 34ms/step\n",
            "1/1 [==============================] - 0s 37ms/step\n",
            "1/1 [==============================] - 0s 36ms/step\n",
            "1/1 [==============================] - 0s 37ms/step\n",
            "1/1 [==============================] - 0s 35ms/step\n",
            "Discriminator Loss: 0.4999998211860657, Generator Loss: 1.2612133559741778e-13\n",
            "Epoch 78/100:\n",
            "1/1 [==============================] - 0s 52ms/step\n",
            "1/1 [==============================] - 0s 56ms/step\n",
            "1/1 [==============================] - 0s 59ms/step\n",
            "1/1 [==============================] - 0s 50ms/step\n",
            "1/1 [==============================] - 0s 34ms/step\n",
            "1/1 [==============================] - 0s 36ms/step\n",
            "Discriminator Loss: 0.4999990463256836, Generator Loss: 3.339550722547199e-14\n",
            "Epoch 79/100:\n",
            "1/1 [==============================] - 0s 63ms/step\n",
            "1/1 [==============================] - 0s 35ms/step\n",
            "1/1 [==============================] - 0s 35ms/step\n",
            "1/1 [==============================] - 0s 39ms/step\n",
            "1/1 [==============================] - 0s 35ms/step\n",
            "1/1 [==============================] - 0s 35ms/step\n",
            "Discriminator Loss: 0.4999995231628418, Generator Loss: 1.6981971113615851e-13\n",
            "Epoch 80/100:\n",
            "1/1 [==============================] - 0s 75ms/step\n",
            "1/1 [==============================] - 0s 52ms/step\n",
            "1/1 [==============================] - 0s 51ms/step\n",
            "1/1 [==============================] - 0s 34ms/step\n",
            "1/1 [==============================] - 0s 34ms/step\n",
            "1/1 [==============================] - 0s 35ms/step\n",
            "Discriminator Loss: 0.49999937415122986, Generator Loss: 4.483524554226015e-13\n",
            "Epoch 81/100:\n",
            "1/1 [==============================] - 0s 53ms/step\n",
            "1/1 [==============================] - 0s 35ms/step\n",
            "1/1 [==============================] - 0s 37ms/step\n",
            "1/1 [==============================] - 0s 37ms/step\n",
            "1/1 [==============================] - 0s 35ms/step\n",
            "1/1 [==============================] - 0s 48ms/step\n",
            "Discriminator Loss: 0.49999934434890747, Generator Loss: 2.106759211528697e-12\n",
            "Epoch 82/100:\n",
            "1/1 [==============================] - 0s 81ms/step\n",
            "1/1 [==============================] - 0s 53ms/step\n",
            "1/1 [==============================] - 0s 56ms/step\n",
            "1/1 [==============================] - 0s 64ms/step\n",
            "1/1 [==============================] - 0s 54ms/step\n",
            "1/1 [==============================] - 0s 35ms/step\n",
            "Discriminator Loss: 0.49999985098838806, Generator Loss: 1.5244694612573384e-12\n",
            "Epoch 83/100:\n",
            "1/1 [==============================] - 0s 51ms/step\n",
            "1/1 [==============================] - 0s 35ms/step\n",
            "1/1 [==============================] - 0s 57ms/step\n",
            "1/1 [==============================] - 0s 57ms/step\n",
            "1/1 [==============================] - 0s 56ms/step\n",
            "1/1 [==============================] - 0s 53ms/step\n",
            "Discriminator Loss: 0.49999871850013733, Generator Loss: 6.902922786329591e-13\n",
            "Epoch 84/100:\n",
            "1/1 [==============================] - 0s 66ms/step\n",
            "1/1 [==============================] - 0s 38ms/step\n",
            "1/1 [==============================] - 0s 34ms/step\n",
            "1/1 [==============================] - 0s 35ms/step\n",
            "1/1 [==============================] - 0s 34ms/step\n",
            "1/1 [==============================] - 0s 34ms/step\n",
            "Discriminator Loss: 0.49999985098838806, Generator Loss: 7.212008496914474e-14\n",
            "Epoch 85/100:\n",
            "1/1 [==============================] - 0s 59ms/step\n",
            "1/1 [==============================] - 0s 34ms/step\n",
            "1/1 [==============================] - 0s 57ms/step\n",
            "1/1 [==============================] - 0s 60ms/step\n",
            "1/1 [==============================] - 0s 52ms/step\n",
            "1/1 [==============================] - 0s 35ms/step\n",
            "Discriminator Loss: 0.4999997615814209, Generator Loss: 1.8012258622569083e-13\n",
            "Epoch 86/100:\n",
            "1/1 [==============================] - 0s 51ms/step\n",
            "1/1 [==============================] - 0s 34ms/step\n",
            "1/1 [==============================] - 0s 40ms/step\n",
            "1/1 [==============================] - 0s 34ms/step\n",
            "1/1 [==============================] - 0s 38ms/step\n",
            "1/1 [==============================] - 0s 34ms/step\n",
            "Discriminator Loss: 0.4999998211860657, Generator Loss: 2.90789614609821e-12\n",
            "Epoch 87/100:\n",
            "1/1 [==============================] - 0s 55ms/step\n",
            "1/1 [==============================] - 0s 49ms/step\n",
            "1/1 [==============================] - 0s 52ms/step\n",
            "1/1 [==============================] - 0s 53ms/step\n",
            "1/1 [==============================] - 0s 35ms/step\n",
            "1/1 [==============================] - 0s 35ms/step\n",
            "Discriminator Loss: 0.49999991059303284, Generator Loss: 5.613287680267427e-14\n",
            "Epoch 88/100:\n",
            "1/1 [==============================] - 0s 57ms/step\n",
            "1/1 [==============================] - 0s 36ms/step\n",
            "1/1 [==============================] - 0s 36ms/step\n",
            "1/1 [==============================] - 0s 37ms/step\n",
            "1/1 [==============================] - 0s 35ms/step\n",
            "1/1 [==============================] - 0s 35ms/step\n",
            "Discriminator Loss: 0.49999991059303284, Generator Loss: 8.881784197001252e-15\n",
            "Epoch 89/100:\n",
            "1/1 [==============================] - 0s 82ms/step\n",
            "1/1 [==============================] - 0s 58ms/step\n",
            "1/1 [==============================] - 0s 54ms/step\n",
            "1/1 [==============================] - 0s 35ms/step\n",
            "1/1 [==============================] - 0s 36ms/step\n",
            "1/1 [==============================] - 0s 38ms/step\n",
            "Discriminator Loss: 0.4999995231628418, Generator Loss: 3.3182346302097765e-13\n",
            "Epoch 90/100:\n",
            "1/1 [==============================] - 0s 53ms/step\n",
            "1/1 [==============================] - 0s 35ms/step\n",
            "1/1 [==============================] - 0s 34ms/step\n",
            "1/1 [==============================] - 0s 33ms/step\n",
            "1/1 [==============================] - 0s 34ms/step\n",
            "1/1 [==============================] - 0s 50ms/step\n",
            "Discriminator Loss: 0.4999997615814209, Generator Loss: 1.3713474258068847e-13\n",
            "Epoch 91/100:\n",
            "1/1 [==============================] - 0s 77ms/step\n",
            "1/1 [==============================] - 0s 53ms/step\n",
            "1/1 [==============================] - 0s 34ms/step\n",
            "1/1 [==============================] - 0s 34ms/step\n",
            "1/1 [==============================] - 0s 41ms/step\n",
            "1/1 [==============================] - 0s 35ms/step\n",
            "Discriminator Loss: 0.4999998211860657, Generator Loss: 1.4779288361708998e-13\n",
            "Epoch 92/100:\n",
            "1/1 [==============================] - 0s 56ms/step\n",
            "1/1 [==============================] - 0s 38ms/step\n",
            "1/1 [==============================] - 0s 34ms/step\n",
            "1/1 [==============================] - 0s 35ms/step\n",
            "1/1 [==============================] - 0s 49ms/step\n",
            "1/1 [==============================] - 0s 57ms/step\n",
            "Discriminator Loss: 0.4999998211860657, Generator Loss: 2.4158453693469764e-14\n",
            "Epoch 93/100:\n",
            "1/1 [==============================] - 0s 83ms/step\n",
            "1/1 [==============================] - 0s 34ms/step\n",
            "1/1 [==============================] - 0s 36ms/step\n",
            "1/1 [==============================] - 0s 33ms/step\n",
            "1/1 [==============================] - 0s 33ms/step\n",
            "1/1 [==============================] - 0s 33ms/step\n",
            "Discriminator Loss: 0.49999943375587463, Generator Loss: 7.471356974937671e-13\n",
            "Epoch 94/100:\n",
            "1/1 [==============================] - 0s 52ms/step\n",
            "1/1 [==============================] - 0s 36ms/step\n",
            "1/1 [==============================] - 0s 37ms/step\n",
            "1/1 [==============================] - 0s 50ms/step\n",
            "1/1 [==============================] - 0s 48ms/step\n",
            "1/1 [==============================] - 0s 54ms/step\n",
            "Discriminator Loss: 0.49999943375587463, Generator Loss: 5.453770681590475e-12\n",
            "Epoch 95/100:\n",
            "1/1 [==============================] - 0s 51ms/step\n",
            "1/1 [==============================] - 0s 35ms/step\n",
            "1/1 [==============================] - 0s 47ms/step\n",
            "1/1 [==============================] - 0s 35ms/step\n",
            "1/1 [==============================] - 0s 35ms/step\n",
            "1/1 [==============================] - 0s 34ms/step\n",
            "Discriminator Loss: 0.4999997019767761, Generator Loss: 1.1797496139720476e-11\n",
            "Epoch 96/100:\n",
            "1/1 [==============================] - 0s 52ms/step\n",
            "1/1 [==============================] - 0s 34ms/step\n",
            "1/1 [==============================] - 0s 51ms/step\n",
            "1/1 [==============================] - 0s 50ms/step\n",
            "1/1 [==============================] - 0s 55ms/step\n",
            "1/1 [==============================] - 0s 36ms/step\n",
            "Discriminator Loss: 0.49999895691871643, Generator Loss: 7.212008496914474e-14\n",
            "Epoch 97/100:\n",
            "1/1 [==============================] - 0s 56ms/step\n",
            "1/1 [==============================] - 0s 35ms/step\n",
            "1/1 [==============================] - 0s 35ms/step\n",
            "1/1 [==============================] - 0s 48ms/step\n",
            "1/1 [==============================] - 0s 33ms/step\n",
            "1/1 [==============================] - 0s 34ms/step\n",
            "Discriminator Loss: 0.49999985098838806, Generator Loss: 5.897504842334103e-14\n",
            "Epoch 98/100:\n",
            "1/1 [==============================] - 0s 56ms/step\n",
            "1/1 [==============================] - 0s 61ms/step\n",
            "1/1 [==============================] - 0s 50ms/step\n",
            "1/1 [==============================] - 0s 60ms/step\n",
            "1/1 [==============================] - 0s 34ms/step\n",
            "1/1 [==============================] - 0s 38ms/step\n",
            "Discriminator Loss: 0.49999961256980896, Generator Loss: 8.526513167934381e-15\n",
            "Epoch 99/100:\n",
            "1/1 [==============================] - 0s 54ms/step\n",
            "1/1 [==============================] - 0s 36ms/step\n",
            "1/1 [==============================] - 0s 33ms/step\n",
            "1/1 [==============================] - 0s 33ms/step\n",
            "1/1 [==============================] - 0s 35ms/step\n",
            "1/1 [==============================] - 0s 35ms/step\n",
            "Discriminator Loss: 0.4999992251396179, Generator Loss: 3.2045476298578346e-13\n",
            "Epoch 100/100:\n",
            "1/1 [==============================] - 0s 55ms/step\n",
            "1/1 [==============================] - 0s 71ms/step\n",
            "1/1 [==============================] - 0s 56ms/step\n",
            "1/1 [==============================] - 0s 53ms/step\n",
            "1/1 [==============================] - 0s 35ms/step\n",
            "1/1 [==============================] - 0s 34ms/step\n",
            "Discriminator Loss: 0.49999991059303284, Generator Loss: 2.2488677315756628e-13\n"
          ]
        }
      ]
    },
    {
      "cell_type": "code",
      "source": [
        "from tensorflow.keras.layers import Input, Dense, Flatten, Reshape, Lambda\n",
        "from tensorflow.keras.models import Model\n",
        "from tensorflow.keras.optimizers import Adam\n",
        "from tensorflow.keras import backend as K\n",
        "from tensorflow.keras.losses import mse\n",
        "import numpy as np\n",
        "import tensorflow as tf\n",
        "\n",
        "\n",
        "# Define or import processed_dataframes, X_train_list, y_train_list, max_length\n",
        "max_length = max(len(df) for df in processed_dataframes)\n",
        "\n",
        "# Reshape and pad the data\n",
        "X_train_padded = []\n",
        "for df in processed_dataframes:\n",
        "    df_padded = df.copy()\n",
        "    for col in df.columns:\n",
        "        df_padded[col] = np.pad(df[col].values, (0, max_length - len(df[col])), constant_values=0)\n",
        "    X_train_padded.append(df_padded[['mass_scaled', 'shell_thickness_scaled', 'y_coordinates_scaled']])\n",
        "\n",
        "X_train_padded = np.array([X.values for X in X_train_padded])\n",
        "\n",
        "# Define the number of epochs and batch size\n",
        "epochs = 100  # Change the number of epochs as needed\n",
        "batch_size = 10\n",
        "\n",
        "# Define latent dimension\n",
        "latent_dim = 100\n",
        "\n",
        "# Encoder\n",
        "encoder_input = Input(shape=(max_length, X_train_padded.shape[2]))\n",
        "x = Flatten()(encoder_input)\n",
        "x = Dense(512, activation='relu')(x)\n",
        "x = Dense(256, activation='relu')(x)\n",
        "z_mean = Dense(latent_dim)(x)\n",
        "z_log_var = Dense(latent_dim)(x)\n",
        "\n",
        "# Sampling function\n",
        "def sampling(args):\n",
        "    z_mean, z_log_var = args\n",
        "    epsilon = K.random_normal(shape=(K.shape(z_mean)[0], latent_dim), mean=0., stddev=1.)\n",
        "    return z_mean + K.exp(0.5 * z_log_var) * epsilon\n",
        "\n",
        "z = Lambda(sampling, output_shape=(latent_dim,))([z_mean, z_log_var])\n",
        "\n",
        "# Decoder\n",
        "decoder_input = Input(shape=(latent_dim,))\n",
        "x = Dense(256, activation='relu')(decoder_input)\n",
        "x = Dense(512, activation='relu')(x)\n",
        "decoder_output = Dense(max_length * X_train_padded.shape[2], activation='linear')(x)\n",
        "decoder_output = Reshape((max_length, X_train_padded.shape[2]))(decoder_output)\n",
        "\n",
        "# Instantiate Encoder and Decoder models\n",
        "encoder = Model(encoder_input, [z_mean, z_log_var, z])\n",
        "decoder = Model(decoder_input, decoder_output)\n",
        "\n",
        "# VAE Model\n",
        "vae_output = decoder(z)\n",
        "vae = Model(encoder_input, vae_output)\n",
        "\n",
        "# Define VAE loss\n",
        "def vae_loss(x, x_decoded_mean, z_log_var=z_log_var, z_mean=z_mean):\n",
        "    reconstruction_loss = mse(K.flatten(x), K.flatten(x_decoded_mean))\n",
        "    kl_loss = -0.5 * K.mean(1 + z_log_var - K.square(z_mean) - K.exp(z_log_var), axis=-1)\n",
        "    return reconstruction_loss + kl_loss\n",
        "\n",
        "# Compile VAE\n",
        "vae.compile(optimizer=Adam(learning_rate=0.0002), loss=vae_loss)\n",
        "\n",
        "# Custom training loop\n",
        "for epoch in range(epochs):\n",
        "    print(f'Epoch {epoch + 1}/{epochs}:')\n",
        "    for df_idx in range(len(processed_dataframes)):\n",
        "        X_train_batch = np.expand_dims(X_train_padded[df_idx], axis=0)\n",
        "\n",
        "        # Perform a forward pass\n",
        "        with tf.GradientTape() as tape:\n",
        "            z_mean, z_log_var, z = encoder(X_train_batch)\n",
        "            x_decoded = decoder(z)\n",
        "\n",
        "            # Compute loss\n",
        "            loss = vae_loss(X_train_batch, x_decoded, z_log_var, z_mean)\n",
        "\n",
        "        # Compute gradients\n",
        "        grads = tape.gradient(loss, vae.trainable_weights)\n",
        "\n",
        "        # Update weights\n",
        "        vae.optimizer.apply_gradients(zip(grads, vae.trainable_weights))\n",
        "\n",
        "    # Print progress after each epoch\n",
        "    print(f'Epoch {epoch + 1}/{epochs}, VAE Loss: {loss.numpy()}')\n"
      ],
      "metadata": {
        "colab": {
          "base_uri": "https://localhost:8080/"
        },
        "id": "2XNQVBlllE29",
        "outputId": "688cf0e9-d3d2-4231-99fe-d75d86e9ba3e"
      },
      "execution_count": null,
      "outputs": [
        {
          "output_type": "stream",
          "name": "stdout",
          "text": [
            "Epoch 1/100:\n",
            "Epoch 1/100, VAE Loss: [0.03524687]\n",
            "Epoch 2/100:\n",
            "Epoch 2/100, VAE Loss: [0.00602882]\n",
            "Epoch 3/100:\n",
            "Epoch 3/100, VAE Loss: [0.01462363]\n",
            "Epoch 4/100:\n",
            "Epoch 4/100, VAE Loss: [0.00159044]\n",
            "Epoch 5/100:\n",
            "Epoch 5/100, VAE Loss: [0.0028776]\n",
            "Epoch 6/100:\n",
            "Epoch 6/100, VAE Loss: [0.01199972]\n",
            "Epoch 7/100:\n",
            "Epoch 7/100, VAE Loss: [0.02823019]\n",
            "Epoch 8/100:\n",
            "Epoch 8/100, VAE Loss: [0.00535634]\n",
            "Epoch 9/100:\n",
            "Epoch 9/100, VAE Loss: [0.00785968]\n",
            "Epoch 10/100:\n",
            "Epoch 10/100, VAE Loss: [0.01198674]\n",
            "Epoch 11/100:\n",
            "Epoch 11/100, VAE Loss: [0.00145101]\n",
            "Epoch 12/100:\n",
            "Epoch 12/100, VAE Loss: [0.00356273]\n",
            "Epoch 13/100:\n",
            "Epoch 13/100, VAE Loss: [0.00308148]\n",
            "Epoch 14/100:\n",
            "Epoch 14/100, VAE Loss: [0.00207167]\n",
            "Epoch 15/100:\n",
            "Epoch 15/100, VAE Loss: [0.00515618]\n",
            "Epoch 16/100:\n",
            "Epoch 16/100, VAE Loss: [0.00114416]\n",
            "Epoch 17/100:\n",
            "Epoch 17/100, VAE Loss: [0.01155172]\n",
            "Epoch 18/100:\n",
            "Epoch 18/100, VAE Loss: [0.00642517]\n",
            "Epoch 19/100:\n",
            "Epoch 19/100, VAE Loss: [0.00474873]\n",
            "Epoch 20/100:\n",
            "Epoch 20/100, VAE Loss: [0.00304886]\n",
            "Epoch 21/100:\n",
            "Epoch 21/100, VAE Loss: [0.0092381]\n",
            "Epoch 22/100:\n",
            "Epoch 22/100, VAE Loss: [0.0042734]\n",
            "Epoch 23/100:\n",
            "Epoch 23/100, VAE Loss: [0.00110872]\n",
            "Epoch 24/100:\n",
            "Epoch 24/100, VAE Loss: [0.00340848]\n",
            "Epoch 25/100:\n",
            "Epoch 25/100, VAE Loss: [0.00348316]\n",
            "Epoch 26/100:\n",
            "Epoch 26/100, VAE Loss: [0.00237055]\n",
            "Epoch 27/100:\n",
            "Epoch 27/100, VAE Loss: [0.00185828]\n",
            "Epoch 28/100:\n",
            "Epoch 28/100, VAE Loss: [0.00182053]\n",
            "Epoch 29/100:\n",
            "Epoch 29/100, VAE Loss: [0.00132679]\n",
            "Epoch 30/100:\n",
            "Epoch 30/100, VAE Loss: [0.00085775]\n",
            "Epoch 31/100:\n",
            "Epoch 31/100, VAE Loss: [0.00056078]\n",
            "Epoch 32/100:\n",
            "Epoch 32/100, VAE Loss: [0.00276358]\n",
            "Epoch 33/100:\n",
            "Epoch 33/100, VAE Loss: [0.0008581]\n",
            "Epoch 34/100:\n",
            "Epoch 34/100, VAE Loss: [0.00109917]\n",
            "Epoch 35/100:\n",
            "Epoch 35/100, VAE Loss: [0.00349498]\n",
            "Epoch 36/100:\n",
            "Epoch 36/100, VAE Loss: [0.00222892]\n",
            "Epoch 37/100:\n",
            "Epoch 37/100, VAE Loss: [0.00134563]\n",
            "Epoch 38/100:\n",
            "Epoch 38/100, VAE Loss: [0.00213298]\n",
            "Epoch 39/100:\n",
            "Epoch 39/100, VAE Loss: [0.00546243]\n",
            "Epoch 40/100:\n",
            "Epoch 40/100, VAE Loss: [0.00128071]\n",
            "Epoch 41/100:\n",
            "Epoch 41/100, VAE Loss: [0.00311324]\n",
            "Epoch 42/100:\n",
            "Epoch 42/100, VAE Loss: [0.00797956]\n",
            "Epoch 43/100:\n",
            "Epoch 43/100, VAE Loss: [0.00061535]\n",
            "Epoch 44/100:\n",
            "Epoch 44/100, VAE Loss: [0.00235397]\n",
            "Epoch 45/100:\n",
            "Epoch 45/100, VAE Loss: [0.00076595]\n",
            "Epoch 46/100:\n",
            "Epoch 46/100, VAE Loss: [0.00238522]\n",
            "Epoch 47/100:\n",
            "Epoch 47/100, VAE Loss: [0.00593504]\n",
            "Epoch 48/100:\n",
            "Epoch 48/100, VAE Loss: [0.0088511]\n",
            "Epoch 49/100:\n",
            "Epoch 49/100, VAE Loss: [0.00706282]\n",
            "Epoch 50/100:\n",
            "Epoch 50/100, VAE Loss: [0.00169396]\n",
            "Epoch 51/100:\n",
            "Epoch 51/100, VAE Loss: [0.00309436]\n",
            "Epoch 52/100:\n",
            "Epoch 52/100, VAE Loss: [0.00855002]\n",
            "Epoch 53/100:\n",
            "Epoch 53/100, VAE Loss: [0.00135218]\n",
            "Epoch 54/100:\n",
            "Epoch 54/100, VAE Loss: [0.00038575]\n",
            "Epoch 55/100:\n",
            "Epoch 55/100, VAE Loss: [0.01416473]\n",
            "Epoch 56/100:\n",
            "Epoch 56/100, VAE Loss: [0.00057864]\n",
            "Epoch 57/100:\n",
            "Epoch 57/100, VAE Loss: [0.00346176]\n",
            "Epoch 58/100:\n",
            "Epoch 58/100, VAE Loss: [0.00036641]\n",
            "Epoch 59/100:\n",
            "Epoch 59/100, VAE Loss: [0.0171706]\n",
            "Epoch 60/100:\n",
            "Epoch 60/100, VAE Loss: [0.00042348]\n",
            "Epoch 61/100:\n",
            "Epoch 61/100, VAE Loss: [0.00283377]\n",
            "Epoch 62/100:\n",
            "Epoch 62/100, VAE Loss: [0.00168662]\n",
            "Epoch 63/100:\n",
            "Epoch 63/100, VAE Loss: [0.00064509]\n",
            "Epoch 64/100:\n",
            "Epoch 64/100, VAE Loss: [0.00203383]\n",
            "Epoch 65/100:\n",
            "Epoch 65/100, VAE Loss: [0.00074346]\n",
            "Epoch 66/100:\n",
            "Epoch 66/100, VAE Loss: [0.00034194]\n",
            "Epoch 67/100:\n",
            "Epoch 67/100, VAE Loss: [0.00034383]\n",
            "Epoch 68/100:\n",
            "Epoch 68/100, VAE Loss: [0.00990241]\n",
            "Epoch 69/100:\n",
            "Epoch 69/100, VAE Loss: [0.00423928]\n",
            "Epoch 70/100:\n",
            "Epoch 70/100, VAE Loss: [0.01748622]\n",
            "Epoch 71/100:\n",
            "Epoch 71/100, VAE Loss: [0.0010575]\n",
            "Epoch 72/100:\n",
            "Epoch 72/100, VAE Loss: [0.00525815]\n",
            "Epoch 73/100:\n",
            "Epoch 73/100, VAE Loss: [0.00042549]\n",
            "Epoch 74/100:\n",
            "Epoch 74/100, VAE Loss: [0.00131752]\n",
            "Epoch 75/100:\n",
            "Epoch 75/100, VAE Loss: [0.00510303]\n",
            "Epoch 76/100:\n",
            "Epoch 76/100, VAE Loss: [0.00113665]\n",
            "Epoch 77/100:\n",
            "Epoch 77/100, VAE Loss: [0.00361019]\n",
            "Epoch 78/100:\n",
            "Epoch 78/100, VAE Loss: [0.00911648]\n",
            "Epoch 79/100:\n",
            "Epoch 79/100, VAE Loss: [0.00127029]\n",
            "Epoch 80/100:\n",
            "Epoch 80/100, VAE Loss: [0.00354125]\n",
            "Epoch 81/100:\n",
            "Epoch 81/100, VAE Loss: [0.00166992]\n",
            "Epoch 82/100:\n",
            "Epoch 82/100, VAE Loss: [0.00162495]\n",
            "Epoch 83/100:\n",
            "Epoch 83/100, VAE Loss: [0.00190072]\n",
            "Epoch 84/100:\n",
            "Epoch 84/100, VAE Loss: [0.0026712]\n",
            "Epoch 85/100:\n",
            "Epoch 85/100, VAE Loss: [0.00117523]\n",
            "Epoch 86/100:\n",
            "Epoch 86/100, VAE Loss: [0.00079721]\n",
            "Epoch 87/100:\n",
            "Epoch 87/100, VAE Loss: [0.00294265]\n",
            "Epoch 88/100:\n",
            "Epoch 88/100, VAE Loss: [0.00270172]\n",
            "Epoch 89/100:\n",
            "Epoch 89/100, VAE Loss: [0.00122167]\n",
            "Epoch 90/100:\n",
            "Epoch 90/100, VAE Loss: [0.0004973]\n",
            "Epoch 91/100:\n",
            "Epoch 91/100, VAE Loss: [0.00124745]\n",
            "Epoch 92/100:\n",
            "Epoch 92/100, VAE Loss: [0.00085287]\n",
            "Epoch 93/100:\n",
            "Epoch 93/100, VAE Loss: [0.00090751]\n",
            "Epoch 94/100:\n",
            "Epoch 94/100, VAE Loss: [0.00040991]\n",
            "Epoch 95/100:\n",
            "Epoch 95/100, VAE Loss: [0.00145731]\n",
            "Epoch 96/100:\n",
            "Epoch 96/100, VAE Loss: [0.00155623]\n",
            "Epoch 97/100:\n",
            "Epoch 97/100, VAE Loss: [0.00045706]\n",
            "Epoch 98/100:\n",
            "Epoch 98/100, VAE Loss: [0.00192265]\n",
            "Epoch 99/100:\n",
            "Epoch 99/100, VAE Loss: [0.00567443]\n",
            "Epoch 100/100:\n",
            "Epoch 100/100, VAE Loss: [0.00104118]\n"
          ]
        }
      ]
    }
  ]
}